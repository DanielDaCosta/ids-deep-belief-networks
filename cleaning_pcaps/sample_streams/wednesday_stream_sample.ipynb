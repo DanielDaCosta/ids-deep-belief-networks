{
 "cells": [
  {
   "cell_type": "markdown",
   "id": "15564414-f2b8-48e9-bab6-93c4b9f06678",
   "metadata": {},
   "source": [
    "Find all TCP and UDP streams sequence numbers from pcap"
   ]
  },
  {
   "cell_type": "code",
   "execution_count": null,
   "id": "248c42d3-a829-4af9-8c3c-f5c9b6ea8b8c",
   "metadata": {},
   "outputs": [],
   "source": [
    "%%bash \n",
    "tshark -r Wednesday-workingHours_NoDuplicates.pcap -Y \"tcp || udp\" -T fields -e tcp.stream -e udp.stream | sort | uniq > wednesday_streams.txt"
   ]
  },
  {
   "cell_type": "markdown",
   "id": "6b3d88c4-f93f-47b5-af35-fd4965b0b167",
   "metadata": {},
   "source": [
    "Take 1% of the total TCP and UDP streams sequence numbers from pcap"
   ]
  },
  {
   "cell_type": "code",
   "execution_count": null,
   "id": "ea160c14-7480-44db-bef0-67a7e38e2fd2",
   "metadata": {},
   "outputs": [],
   "source": [
    "%%bash \n",
    "total_streams=$(wc -l < wednesday_streams.txt)\n",
    "select_count=$((total_streams * 1 / 100))  # Adjust the percentage here\n",
    "shuf wednesday_streams.txt | head -n $select_count > wednesday_selected_streams.txt"
   ]
  },
  {
   "cell_type": "markdown",
   "id": "b90d77f7-3c64-4cd7-8b8d-3cca8b00bd18",
   "metadata": {},
   "source": [
    "Extract the selected TCP and UDP streams from pcap"
   ]
  },
  {
   "cell_type": "code",
   "execution_count": null,
   "id": "6fdc4665-1388-4300-9723-528af35c3de0",
   "metadata": {},
   "outputs": [],
   "source": [
    "%%bash\n",
    "output_file=\"wednesday_merged_output.pcap\"\n",
    "\n",
    "for stream in $(cat wednesday_selected_streams.txt); do\n",
    "    tshark -r Wednesday-workingHours_NoDuplicates.pcap -Y \"tcp.stream == ${stream} || udp.stream == ${stream}\" -w wednesday_temp_${stream}.pcap\n",
    "    mergecap -w wednesday_temp_output.pcap $output_file wednesday_temp_${stream}.pcap\n",
    "    mv wednesday_temp_output.pcap $output_file\n",
    "    rm wednesday_temp_${stream}.pcap\n",
    "done"
   ]
  }
 ],
 "metadata": {
  "kernelspec": {
   "display_name": "Python 3 (ipykernel)",
   "language": "python",
   "name": "python3"
  },
  "language_info": {
   "codemirror_mode": {
    "name": "ipython",
    "version": 3
   },
   "file_extension": ".py",
   "mimetype": "text/x-python",
   "name": "python",
   "nbconvert_exporter": "python",
   "pygments_lexer": "ipython3",
   "version": "3.8.10"
  }
 },
 "nbformat": 4,
 "nbformat_minor": 5
}
