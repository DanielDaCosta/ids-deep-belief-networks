{
 "cells": [
  {
   "cell_type": "markdown",
   "id": "a7f2a9a7-ac87-4c85-b91d-7beaaa089ba8",
   "metadata": {},
   "source": [
    "DoS_Slowloris - Filter: Time Frame"
   ]
  },
  {
   "cell_type": "code",
   "execution_count": null,
   "id": "6d7767a9-b11c-4265-b15f-3b9296918957",
   "metadata": {},
   "outputs": [],
   "source": [
    "%%bash\n",
    "editcap -A \"2017-07-04 22:23:00\" -B \"2017-07-05 06:12:59\" Wednesday-workingHours_NoDuplicates.pcap DoS_Slowloris.pcap"
   ]
  },
  {
   "cell_type": "markdown",
   "id": "12251c2a-d5cf-492a-9053-f5893b8d7c98",
   "metadata": {},
   "source": [
    "DoS_Slowloris - Filter: Source/Destination IP"
   ]
  },
  {
   "cell_type": "code",
   "execution_count": null,
   "id": "80361d89-c084-4cb6-979f-072664a7ba7c",
   "metadata": {},
   "outputs": [],
   "source": [
    "%%bash\n",
    "tcpdump -r DoS_Slowloris.pcap -w DoS_Slowloris_filtered.pcap '(src host 172.16.0.1 and dst host 192.168.10.50) or (src host 192.168.10.50 and dst host 172.16.0.1)'"
   ]
  },
  {
   "cell_type": "code",
   "execution_count": null,
   "id": "8124840c-e14e-4851-9e57-548a1eb32484",
   "metadata": {},
   "outputs": [],
   "source": []
  },
  {
   "cell_type": "markdown",
   "id": "015a74eb-f759-4b4a-b320-eefe1309deeb",
   "metadata": {},
   "source": [
    "DoS_SlowHTTPtest - Filter: Time Frame"
   ]
  },
  {
   "cell_type": "code",
   "execution_count": null,
   "id": "0f854251-15e6-4ee9-a4dd-95096d4e1c5b",
   "metadata": {},
   "outputs": [],
   "source": [
    "%%bash\n",
    "editcap -A \"2017-07-05 06:13:00\" -B \"2017-07-05 06:38:59\" Wednesday-workingHours_NoDuplicates.pcap DoS_SlowHTTPtest.pcap"
   ]
  },
  {
   "cell_type": "markdown",
   "id": "1536a728-a5c1-4160-909d-c9323c4279af",
   "metadata": {},
   "source": [
    "DoS_SlowHTTPtest - Filter: Source/Destination IP"
   ]
  },
  {
   "cell_type": "code",
   "execution_count": null,
   "id": "ae7114b0-aef3-4c6d-8bfe-3eb7a3c803d7",
   "metadata": {},
   "outputs": [],
   "source": [
    "%%bash\n",
    "tcpdump -r DoS_SlowHTTPtest.pcap -w DoS_Slowhttptest_filtered.pcap '(src host 172.16.0.1 and dst host 192.168.10.50) or (src host 192.168.10.50 and dst host 172.16.0.1)'"
   ]
  },
  {
   "cell_type": "code",
   "execution_count": null,
   "id": "784e1fd2-df34-4930-8e56-cdb92ef302d9",
   "metadata": {},
   "outputs": [],
   "source": []
  },
  {
   "cell_type": "markdown",
   "id": "48c17750-cb6e-4d89-b5a1-dfda2a4a98f2",
   "metadata": {},
   "source": [
    "DoS_Hulk - Filter: Time Frame"
   ]
  },
  {
   "cell_type": "code",
   "execution_count": null,
   "id": "99bcd211-5fb1-4a25-9e21-db63366b8bf1",
   "metadata": {},
   "outputs": [],
   "source": [
    "%%bash\n",
    "editcap -A \"2017-07-05 06:39:00\" -B \"2017-07-05 07:09:59\" Wednesday-workingHours_NoDuplicates.pcap DoS_Hulk.pcap"
   ]
  },
  {
   "cell_type": "markdown",
   "id": "e537124e-b5b6-4ff3-a685-e35f6a2feb1d",
   "metadata": {},
   "source": [
    "DoS_Hulk - Filter: Source/Destination IP"
   ]
  },
  {
   "cell_type": "code",
   "execution_count": null,
   "id": "4bba917e-5dbb-4e38-a7ea-c14a7e6c60d8",
   "metadata": {},
   "outputs": [],
   "source": [
    "%%bash\n",
    "tcpdump -r DoS_Hulk.pcap -w DoS_Hulk_filtered.pcap '(src host 172.16.0.1 and dst host 192.168.10.50) or (src host 192.168.10.50 and dst host 172.16.0.1)'"
   ]
  },
  {
   "cell_type": "code",
   "execution_count": null,
   "id": "74cf4526-b397-42b6-8b82-e902f9c7376d",
   "metadata": {},
   "outputs": [],
   "source": []
  },
  {
   "cell_type": "markdown",
   "id": "c43896b1-58fb-4033-9fb8-21ffec32a5d6",
   "metadata": {},
   "source": [
    "DoS_GoldenEye - Filter: Time Frame"
   ]
  },
  {
   "cell_type": "code",
   "execution_count": null,
   "id": "7895899c-bd42-42ef-8236-3c21bb01531a",
   "metadata": {},
   "outputs": [],
   "source": [
    "%%bash\n",
    "editcap -A \"2017-07-05 07:10:00\" -B \"2017-07-05 07:23:59\" Wednesday-workingHours_NoDuplicates.pcap DoS_GoldenEye.pcap"
   ]
  },
  {
   "cell_type": "markdown",
   "id": "a833561c-1c6a-4324-875b-9050a4fb0e37",
   "metadata": {},
   "source": [
    "DoS_GoldenEye - Filter: Source/Destination IP"
   ]
  },
  {
   "cell_type": "code",
   "execution_count": null,
   "id": "e97b6230-e601-411d-bb39-a5f559de7c37",
   "metadata": {},
   "outputs": [],
   "source": [
    "%%bash\n",
    "tcpdump -r DoS_GoldenEye.pcap -w DoS_GoldenEye_filtered.pcap '(src host 172.16.0.1 and dst host 192.168.10.50) or (src host 192.168.10.50 and dst host 172.16.0.1)'"
   ]
  },
  {
   "cell_type": "code",
   "execution_count": null,
   "id": "2c3d2144-f1bf-4b7a-8af8-ce6f30755e19",
   "metadata": {},
   "outputs": [],
   "source": []
  },
  {
   "cell_type": "markdown",
   "id": "689e63de-0459-47b1-ac72-56024a823aa4",
   "metadata": {},
   "source": [
    "Heartbleed - Filter: Time Frame"
   ]
  },
  {
   "cell_type": "code",
   "execution_count": null,
   "id": "0a36fc98-6d88-4d86-888f-3f724e01f6b7",
   "metadata": {},
   "outputs": [],
   "source": [
    "%%bash\n",
    "editcap -A \"2017-07-05 11:11:00\" -B \"2017-07-05 11:33:59\" Wednesday-workingHours_NoDuplicates.pcap Heartbleed.pcap"
   ]
  },
  {
   "cell_type": "markdown",
   "id": "714f63e3-c973-48da-95cf-e754011363b0",
   "metadata": {},
   "source": [
    "Heartbleed - Filter: Source/Destination IP"
   ]
  },
  {
   "cell_type": "code",
   "execution_count": null,
   "id": "93e5cc65-f538-4350-b99e-bab79faf226b",
   "metadata": {},
   "outputs": [],
   "source": [
    "tcpdump -r Heartbleed.pcap -w Heartbleed_filtered.pcap '(src host 172.16.0.1 and dst host 192.168.10.51 and dst port 444) or (src host 192.168.10.51 and src port 444 and dst host 172.16.0.1)'"
   ]
  }
 ],
 "metadata": {
  "kernelspec": {
   "display_name": "Python 3 (ipykernel)",
   "language": "python",
   "name": "python3"
  },
  "language_info": {
   "codemirror_mode": {
    "name": "ipython",
    "version": 3
   },
   "file_extension": ".py",
   "mimetype": "text/x-python",
   "name": "python",
   "nbconvert_exporter": "python",
   "pygments_lexer": "ipython3",
   "version": "3.8.10"
  }
 },
 "nbformat": 4,
 "nbformat_minor": 5
}
