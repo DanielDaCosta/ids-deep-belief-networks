{
 "cells": [
  {
   "cell_type": "markdown",
   "id": "a5bdf830-f35d-457a-8531-d3512dde8185",
   "metadata": {},
   "source": [
    "FTP_Patator - Filter:Time Frame"
   ]
  },
  {
   "cell_type": "code",
   "execution_count": null,
   "id": "2fc405a3-1190-47c3-9d99-7473296d2426",
   "metadata": {},
   "outputs": [],
   "source": [
    "%%bash\n",
    "editcap -A \"2017-07-04 05:17:00\" -B \"2017-07-04 06:30:59\" Tuesday-WorkingHours_NoDuplicates.pcap FTP_Patator.pcap"
   ]
  },
  {
   "cell_type": "markdown",
   "id": "68145178-542e-493c-b32f-c4e3a42576c3",
   "metadata": {},
   "source": [
    "FTP_Patator - Filter: Source/Destination IP"
   ]
  },
  {
   "cell_type": "code",
   "execution_count": null,
   "id": "5bc4844f-0893-4216-b3db-58fabd3f3c84",
   "metadata": {},
   "outputs": [],
   "source": [
    "%%bash\n",
    "tcpdump -r FTP_Patator.pcap -w FTP_Patator_filtered.pcap '(src host 172.16.0.1 and dst host 192.168.10.50) or (src host 192.168.10.50 and dst host 172.16.0.1)'"
   ]
  },
  {
   "cell_type": "markdown",
   "id": "afa28412-c3ad-42ef-aece-48303f94a360",
   "metadata": {},
   "source": []
  },
  {
   "cell_type": "raw",
   "id": "fade7cf7-fd3b-4041-ae98-d3bca29c58a9",
   "metadata": {},
   "source": [
    "SSH_Patator - Filter: Time Frame"
   ]
  },
  {
   "cell_type": "code",
   "execution_count": null,
   "id": "e2bf8e36-0ee4-4b15-bb9e-52dc6c5e9592",
   "metadata": {},
   "outputs": [],
   "source": [
    "%%bash\n",
    "editcap -A \"2017-07-04 09:00:00\" -B \"2017-07-04 12:11:59\" Tuesday-WorkingHours_NoDuplicates.pcap SSH_Patator.pcap"
   ]
  },
  {
   "cell_type": "markdown",
   "id": "cb45d390-8545-4c88-82bc-21c704fd0738",
   "metadata": {},
   "source": [
    "SSH_Patator - Filter: Source/Destination IP"
   ]
  },
  {
   "cell_type": "code",
   "execution_count": null,
   "id": "52d4dfb0-a664-46cf-b9af-bf26a1cba018",
   "metadata": {},
   "outputs": [],
   "source": [
    "%%bash\n",
    "tcpdump -r SSH_Patator.pcap -w SSH_Patator_filtered.pcap '(src host 172.16.0.1 and dst host 192.168.10.50) or (src host 192.168.10.50 and dst host 172.16.0.1)'"
   ]
  }
 ],
 "metadata": {
  "kernelspec": {
   "display_name": "Python 3 (ipykernel)",
   "language": "python",
   "name": "python3"
  },
  "language_info": {
   "codemirror_mode": {
    "name": "ipython",
    "version": 3
   },
   "file_extension": ".py",
   "mimetype": "text/x-python",
   "name": "python",
   "nbconvert_exporter": "python",
   "pygments_lexer": "ipython3",
   "version": "3.8.10"
  }
 },
 "nbformat": 4,
 "nbformat_minor": 5
}
