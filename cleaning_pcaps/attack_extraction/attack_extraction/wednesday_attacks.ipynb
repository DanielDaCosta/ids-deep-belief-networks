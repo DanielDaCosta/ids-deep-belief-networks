{
 "cells": [
  {
   "cell_type": "code",
   "execution_count": null,
   "id": "4d6ec964-a1c0-43c7-ba46-6231912bf542",
   "metadata": {},
   "outputs": [],
   "source": [
    "DoS_Slowloris - Time Frame"
   ]
  },
  {
   "cell_type": "code",
   "execution_count": null,
   "id": "6d7767a9-b11c-4265-b15f-3b9296918957",
   "metadata": {},
   "outputs": [],
   "source": [
    "%%bash\n",
    "editcap -A \"2017-07-04 22:23:00\" -B \"2017-07-05 06:12:59\" Wednesday-workingHours_NoDuplicates.pcap DoS_Slowloris.pcap"
   ]
  },
  {
   "cell_type": "code",
   "execution_count": null,
   "id": "078a2750-7e45-48a9-ac44-d0ebcff3f1e1",
   "metadata": {},
   "outputs": [],
   "source": [
    "DoS_Slowloris - Source and Destination IP"
   ]
  },
  {
   "cell_type": "code",
   "execution_count": null,
   "id": "80361d89-c084-4cb6-979f-072664a7ba7c",
   "metadata": {},
   "outputs": [],
   "source": [
    "%%bash\n",
    "tcpdump -r DoS_Slowloris.pcap -w DoS_Slowloris_filtered.pcap '(src host 172.16.0.1 and dst host 192.168.10.50) or (src host 192.168.10.50 and dst host 172.16.0.1)'"
   ]
  },
  {
   "cell_type": "code",
   "execution_count": null,
   "id": "8124840c-e14e-4851-9e57-548a1eb32484",
   "metadata": {},
   "outputs": [],
   "source": []
  },
  {
   "cell_type": "code",
   "execution_count": null,
   "id": "40c9617e-0d2a-4bb5-9d80-2811b6dcf3f4",
   "metadata": {},
   "outputs": [],
   "source": [
    "DoS_SlowHTTPtest - Time Frame"
   ]
  },
  {
   "cell_type": "code",
   "execution_count": null,
   "id": "0f854251-15e6-4ee9-a4dd-95096d4e1c5b",
   "metadata": {},
   "outputs": [],
   "source": [
    "%%bash\n",
    "editcap -A \"2017-07-05 06:13:00\" -B \"2017-07-05 06:38:59\" Wednesday-workingHours_NoDuplicates.pcap DoS_SlowHTTPtest.pcap"
   ]
  },
  {
   "cell_type": "code",
   "execution_count": null,
   "id": "605c7083-04cf-4402-be1a-f5a8b6d8b56b",
   "metadata": {},
   "outputs": [],
   "source": [
    "DoS_SlowHTTPtest - Source and Destination IP"
   ]
  },
  {
   "cell_type": "code",
   "execution_count": null,
   "id": "ae7114b0-aef3-4c6d-8bfe-3eb7a3c803d7",
   "metadata": {},
   "outputs": [],
   "source": [
    "%%bash\n",
    "tcpdump -r DoS_SlowHTTPtest.pcap -w DoS_Slowhttptest_filtered.pcap '(src host 172.16.0.1 and dst host 192.168.10.50) or (src host 192.168.10.50 and dst host 172.16.0.1)'"
   ]
  },
  {
   "cell_type": "code",
   "execution_count": null,
   "id": "784e1fd2-df34-4930-8e56-cdb92ef302d9",
   "metadata": {},
   "outputs": [],
   "source": []
  },
  {
   "cell_type": "code",
   "execution_count": null,
   "id": "7c665784-3db6-446a-8b78-f877f8cb2593",
   "metadata": {},
   "outputs": [],
   "source": [
    "DoS_Hulk - Time Frame"
   ]
  },
  {
   "cell_type": "code",
   "execution_count": null,
   "id": "99bcd211-5fb1-4a25-9e21-db63366b8bf1",
   "metadata": {},
   "outputs": [],
   "source": [
    "%%bash\n",
    "editcap -A \"2017-07-05 06:39:00\" -B \"2017-07-05 07:09:59\" Wednesday-workingHours_NoDuplicates.pcap DoS_Hulk.pcap"
   ]
  },
  {
   "cell_type": "code",
   "execution_count": null,
   "id": "2d0e0b7e-d061-45ee-88d5-7de76f3a2462",
   "metadata": {},
   "outputs": [],
   "source": [
    "DoS_Hulk - Source and Destination IP"
   ]
  },
  {
   "cell_type": "code",
   "execution_count": null,
   "id": "4bba917e-5dbb-4e38-a7ea-c14a7e6c60d8",
   "metadata": {},
   "outputs": [],
   "source": [
    "%%bash\n",
    "tcpdump -r DoS_Hulk.pcap -w DoS_Hulk_filtered.pcap '(src host 172.16.0.1 and dst host 192.168.10.50) or (src host 192.168.10.50 and dst host 172.16.0.1)'"
   ]
  },
  {
   "cell_type": "code",
   "execution_count": null,
   "id": "74cf4526-b397-42b6-8b82-e902f9c7376d",
   "metadata": {},
   "outputs": [],
   "source": []
  },
  {
   "cell_type": "code",
   "execution_count": null,
   "id": "707cdb87-3a73-43e4-9486-e4aad1a56e6d",
   "metadata": {},
   "outputs": [],
   "source": [
    "DoS_GoldenEye - Time Frame"
   ]
  },
  {
   "cell_type": "code",
   "execution_count": null,
   "id": "7895899c-bd42-42ef-8236-3c21bb01531a",
   "metadata": {},
   "outputs": [],
   "source": [
    "%%bash\n",
    "editcap -A \"2017-07-05 07:10:00\" -B \"2017-07-05 07:23:59\" Wednesday-workingHours_NoDuplicates.pcap DoS_GoldenEye.pcap"
   ]
  },
  {
   "cell_type": "code",
   "execution_count": null,
   "id": "2d824e47-6900-4752-8854-909ccd5bac5d",
   "metadata": {},
   "outputs": [],
   "source": [
    "DoS_GoldenEye - Source and Destination IP"
   ]
  },
  {
   "cell_type": "code",
   "execution_count": null,
   "id": "e97b6230-e601-411d-bb39-a5f559de7c37",
   "metadata": {},
   "outputs": [],
   "source": [
    "%%bash\n",
    "tcpdump -r DoS_GoldenEye.pcap -w DoS_GoldenEye_filtered.pcap '(src host 172.16.0.1 and dst host 192.168.10.50) or (src host 192.168.10.50 and dst host 172.16.0.1)'"
   ]
  },
  {
   "cell_type": "code",
   "execution_count": null,
   "id": "2c3d2144-f1bf-4b7a-8af8-ce6f30755e19",
   "metadata": {},
   "outputs": [],
   "source": []
  },
  {
   "cell_type": "code",
   "execution_count": null,
   "id": "1d4a382c-8fa5-4b65-bed9-56d4e2bcf8b5",
   "metadata": {},
   "outputs": [],
   "source": [
    "Heartbleed - Time Frame"
   ]
  },
  {
   "cell_type": "code",
   "execution_count": null,
   "id": "0a36fc98-6d88-4d86-888f-3f724e01f6b7",
   "metadata": {},
   "outputs": [],
   "source": [
    "%%bash\n",
    "editcap -A \"2017-07-05 11:11:00\" -B \"2017-07-05 11:33:59\" Wednesday-workingHours_NoDuplicates.pcap Heartbleed.pcap"
   ]
  },
  {
   "cell_type": "code",
   "execution_count": null,
   "id": "d0c359db-35b0-40c1-9e65-7f760049a8ef",
   "metadata": {},
   "outputs": [],
   "source": [
    "Heartbleed - Source and Destination IP"
   ]
  },
  {
   "cell_type": "code",
   "execution_count": null,
   "id": "93e5cc65-f538-4350-b99e-bab79faf226b",
   "metadata": {},
   "outputs": [],
   "source": [
    "tcpdump -r Heartbleed.pcap -w Heartbleed_filtered.pcap '(src host 172.16.0.1 and dst host 192.168.10.51 and dst port 444) or (src host 192.168.10.51 and src port 444 and dst host 172.16.0.1)'"
   ]
  }
 ],
 "metadata": {
  "kernelspec": {
   "display_name": "Python 3 (ipykernel)",
   "language": "python",
   "name": "python3"
  },
  "language_info": {
   "codemirror_mode": {
    "name": "ipython",
    "version": 3
   },
   "file_extension": ".py",
   "mimetype": "text/x-python",
   "name": "python",
   "nbconvert_exporter": "python",
   "pygments_lexer": "ipython3",
   "version": "3.8.10"
  }
 },
 "nbformat": 4,
 "nbformat_minor": 5
}
