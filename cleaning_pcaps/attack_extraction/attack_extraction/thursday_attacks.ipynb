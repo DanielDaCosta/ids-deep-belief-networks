{
 "cells": [
  {
   "cell_type": "markdown",
   "id": "1c73a0a6-f101-4fc8-8b44-05f6c8959c2e",
   "metadata": {},
   "source": [
    "Web_Attack_Brute_Force - Time Frame"
   ]
  },
  {
   "cell_type": "code",
   "execution_count": null,
   "id": "f33e9710-9576-465e-936d-b529775bc0e9",
   "metadata": {},
   "outputs": [],
   "source": [
    "%%bash\n",
    "editcap -A \"2017-07-06 05:10:00\" -B \"2017-07-06 06:12:00\" Thursday-WorkingHours_NoDuplicates.pcap Web_Attack_Brute_Force.pcap"
   ]
  },
  {
   "cell_type": "code",
   "execution_count": null,
   "id": "4d08097e-8047-4180-bd4a-3a84fddbc5e5",
   "metadata": {},
   "outputs": [],
   "source": [
    "Web_Attack_Brute_Force - Source and Destination IP"
   ]
  },
  {
   "cell_type": "code",
   "execution_count": null,
   "id": "f31ba178-e0d1-41b9-ba28-f95febce77d9",
   "metadata": {},
   "outputs": [],
   "source": [
    "tcpdump -r Web_Attack_Brute_Force.pcap -w Web_Attack_Brute_Force_filtered.pcap '(src host 172.16.0.1 and dst host 192.168.10.50) or (src host 192.168.10.50 and dst host 172.16.0.1)'"
   ]
  },
  {
   "cell_type": "code",
   "execution_count": null,
   "id": "cbd42ca7-5df5-4d24-8abb-dde63b6e457f",
   "metadata": {},
   "outputs": [],
   "source": []
  },
  {
   "cell_type": "code",
   "execution_count": null,
   "id": "4664ecde-5e87-43c4-9f1c-f336b139ee9e",
   "metadata": {},
   "outputs": [],
   "source": [
    "Web_Attack_XSS - Time Frame"
   ]
  },
  {
   "cell_type": "code",
   "execution_count": null,
   "id": "33c26d9f-324a-4c1d-9b8e-1e849bbf2c03",
   "metadata": {},
   "outputs": [],
   "source": [
    "%%bash\n",
    "editcap -A \"2017-07-06 06:13:00\" -B \"2017-07-06 06:37:00\" Thursday-WorkingHours_NoDuplicates.pcap Web_Attack_XSS.pcap"
   ]
  },
  {
   "cell_type": "code",
   "execution_count": null,
   "id": "e0d17906-1b72-485b-a632-5f4e4135226d",
   "metadata": {},
   "outputs": [],
   "source": [
    "Web_Attack_XSS - Source and Destination IP"
   ]
  },
  {
   "cell_type": "code",
   "execution_count": null,
   "id": "ea555228-9c49-4320-8303-051c9dc3b0f9",
   "metadata": {},
   "outputs": [],
   "source": [
    "%%bash\n",
    "tcpdump -r Web_Attack_XSS.pcap -w Web_Attack_XSS_filtered.pcap '(src host 172.16.0.1 and dst host 192.168.10.50) or (src host 192.168.10.50 and dst host 172.16.0.1)'"
   ]
  },
  {
   "cell_type": "code",
   "execution_count": null,
   "id": "2bc36b5a-510c-4170-a04e-5db773e15fd5",
   "metadata": {},
   "outputs": [],
   "source": []
  },
  {
   "cell_type": "code",
   "execution_count": null,
   "id": "481c356c-cffe-40e6-94f6-2c246e6da890",
   "metadata": {},
   "outputs": [],
   "source": [
    "Web_Attack_Sql_Injection - Time Frame"
   ]
  },
  {
   "cell_type": "code",
   "execution_count": null,
   "id": "12ed4b73-10cf-47ed-b60b-bc27b0764a5a",
   "metadata": {},
   "outputs": [],
   "source": [
    "%%bash\n",
    "editcap -A \"2017-07-06 06:39:00\" -B \"2017-07-06 06:45:00\" Thursday-WorkingHours_NoDuplicates.pcap Web_Attack_Sql_Injection.pcap"
   ]
  },
  {
   "cell_type": "code",
   "execution_count": null,
   "id": "6e4bac13-c215-407f-84f8-42d50e343b0e",
   "metadata": {},
   "outputs": [],
   "source": [
    "Web_Attack_Sql_Injection - Source and Destination IP"
   ]
  },
  {
   "cell_type": "code",
   "execution_count": null,
   "id": "0413039f-a4e9-4a31-8391-06efb5378e16",
   "metadata": {},
   "outputs": [],
   "source": [
    "%%bash\n",
    "tcpdump -r Web_Attack_Sql_Injection.pcap -w Web_Attack_Sql_Injection_filtered.pcap '(src host 172.16.0.1 and dst host 192.168.10.50) or (src host 192.168.10.50 and dst host 172.16.0.1)'"
   ]
  },
  {
   "cell_type": "code",
   "execution_count": null,
   "id": "1c54fea3-c397-4e8e-b257-0f88315b42a3",
   "metadata": {},
   "outputs": [],
   "source": []
  },
  {
   "cell_type": "code",
   "execution_count": null,
   "id": "f54e0619-0e3c-4224-bfff-bed55eed01f5",
   "metadata": {},
   "outputs": [],
   "source": [
    "Infiltration Meta exploit - Time Frame"
   ]
  },
  {
   "cell_type": "code",
   "execution_count": null,
   "id": "e26781d6-2ffc-4646-8dfe-3d5465a833e2",
   "metadata": {},
   "outputs": [],
   "source": [
    "%%bash\n",
    "editcap -A \"2017-07-06 10:19:00\" -B \"2017-07-06 10:21:00\" Thursday-WorkingHours_NoDuplicates.pcap Infiltration_MetaExploit.pcap\n",
    "editcap -A \"2017-07-06 10:33:00\" -B \"2017-07-06 10:35:00\" Thursday-WorkingHours_NoDuplicates.pcap Infiltration_MetaExploit_Part2.pcap"
   ]
  },
  {
   "cell_type": "code",
   "execution_count": null,
   "id": "f84ead83-86bc-4fc8-a6a1-4ba2dec1970d",
   "metadata": {},
   "outputs": [],
   "source": [
    "Infiltration Meta exploit - Source and Destination IP"
   ]
  },
  {
   "cell_type": "code",
   "execution_count": null,
   "id": "96694605-b4b9-4cd5-ba4a-3b0c5f2f134b",
   "metadata": {},
   "outputs": [],
   "source": [
    "%%bash\n",
    "tcpdump -r Infiltration_MetaExploit.pcap -w Infiltration_MetaExploit_filtered.pcap '(src host 205.174.165.73 and dst host 192.168.10.8) or (src host 192.168.10.8 and dst host 205.174.165.73)'\n",
    "tcpdump -r Infiltration_MetaExploit_Part2.pcap -w Infiltration_MetaExploit_Part2_filtered.pcap '(src host 205.174.165.73 and dst host 192.168.10.8) or (src host 192.168.10.8 and dst host 205.174.165.73)'"
   ]
  },
  {
   "cell_type": "code",
   "execution_count": null,
   "id": "3568f0d4-b402-408a-b4f3-58ef91a9d489",
   "metadata": {},
   "outputs": [],
   "source": []
  },
  {
   "cell_type": "code",
   "execution_count": null,
   "id": "7674b22a-26ce-43e7-b4ec-349dff78e93b",
   "metadata": {},
   "outputs": [],
   "source": [
    "Infiltration Cool disk - Time Frame"
   ]
  },
  {
   "cell_type": "code",
   "execution_count": null,
   "id": "cb0c02c8-b25c-40b3-9cee-5916b31bf792",
   "metadata": {},
   "outputs": [],
   "source": [
    "%%bash\n",
    "editcap -A \"2017-07-06 10:53:00\" -B \"2017-07-06 11:00:00\" Thursday-WorkingHours_NoDuplicates.pcap Infiltration_CoolDisk.pcap"
   ]
  },
  {
   "cell_type": "code",
   "execution_count": null,
   "id": "b16da49d-8b6f-4778-a11d-fa8640dad3d4",
   "metadata": {},
   "outputs": [],
   "source": [
    "Infiltration Cool disk - Source and Destination IP"
   ]
  },
  {
   "cell_type": "code",
   "execution_count": null,
   "id": "5a895793-8668-48b8-bc4e-99c307bbf5fe",
   "metadata": {},
   "outputs": [],
   "source": [
    "%%bash\n",
    "tcpdump -r Infiltration_CoolDisk.pcap -w Infiltration_CoolDisk_filtered.pcap '(src host 205.174.165.73 and dst host 192.168.10.25) or (src host 192.168.10.25 and dst host 205.174.165.73)'"
   ]
  },
  {
   "cell_type": "code",
   "execution_count": null,
   "id": "504a5031-5258-43fe-9bb3-1abf15722c6a",
   "metadata": {},
   "outputs": [],
   "source": []
  },
  {
   "cell_type": "code",
   "execution_count": null,
   "id": "4e856fbe-32b4-4d23-ac66-6ede5b8055d7",
   "metadata": {},
   "outputs": [],
   "source": [
    "Infiltration Dropbox - Time Frame"
   ]
  },
  {
   "cell_type": "code",
   "execution_count": null,
   "id": "a9bee772-29a3-480e-8ab8-6457dd3b7333",
   "metadata": {},
   "outputs": [],
   "source": [
    "%%bash\n",
    "editcap -A \"2017-07-06 11:04:00\" -B \"2017-07-06 11:45:00\" Thursday-WorkingHours_NoDuplicates.pcap Infiltration_Dropbox.pcap"
   ]
  },
  {
   "cell_type": "code",
   "execution_count": null,
   "id": "00905bfb-bd87-4a06-a32d-eeeea287ed9a",
   "metadata": {},
   "outputs": [],
   "source": [
    "Infiltration Dropbox Part 1 - Source Destination IP"
   ]
  },
  {
   "cell_type": "code",
   "execution_count": null,
   "id": "09b455dd-6da4-4192-a6ab-22050d03157c",
   "metadata": {},
   "outputs": [],
   "source": [
    "%%bash\n",
    "tcpdump -r Infiltration_Dropbox.pcap -w Infiltration_Dropbox_Part1_filtered.pcap '(src host 205.174.165.73 and dst host 192.168.10.8) or (src host 192.168.10.8 and dst host 205.174.165.73)'"
   ]
  },
  {
   "cell_type": "code",
   "execution_count": null,
   "id": "67bbff97-ab7c-4284-9097-2bfe01db296c",
   "metadata": {},
   "outputs": [],
   "source": [
    "Infiltration Dropbox Part 2 - Source Destination IP"
   ]
  },
  {
   "cell_type": "code",
   "execution_count": null,
   "id": "84c12e18-77fb-430f-b1cc-f46132e5d657",
   "metadata": {},
   "outputs": [],
   "source": [
    "%%bash\n",
    "tcpdump -r Infiltration_Dropbox.pcap -w Infiltration_Dropbox_Part2_Webserver16_filtered.pcap '(src host 192.168.10.8 and dst host 192.168.10.50) or (src host 192.168.10.50 and dst host 192.168.10.8)'"
   ]
  },
  {
   "cell_type": "code",
   "execution_count": null,
   "id": "9fdf3959-8e10-4f40-a6ea-c8f8ccad753a",
   "metadata": {},
   "outputs": [],
   "source": [
    "%%bash\n",
    "tcpdump -r Infiltration_Dropbox.pcap -w Infiltration_Dropbox_Part2_Ubuntuserver12_filtered.pcap '(src host 192.168.10.8 and dst host 192.168.10.51) or (src host 192.168.10.51 and dst host 192.168.10.8)'"
   ]
  },
  {
   "cell_type": "code",
   "execution_count": null,
   "id": "1e0eacee-3e84-49b1-b57f-d202aae9074d",
   "metadata": {},
   "outputs": [],
   "source": [
    "%%bash\n",
    "tcpdump -r Infiltration_Dropbox.pcap -w Infiltration_Dropbox_Part2_Ubuntu1432B_filtered.pcap '(src host 192.168.10.8 and dst host 192.168.10.19) or (src host 192.168.10.19 and dst host 192.168.10.8)'"
   ]
  },
  {
   "cell_type": "code",
   "execution_count": null,
   "id": "e156f385-5b9e-431e-b733-bad275d19a1d",
   "metadata": {},
   "outputs": [],
   "source": [
    "%%bash\n",
    "tcpdump -r Infiltration_Dropbox.pcap -w Infiltration_Dropbox_Part2_Ubuntu1464B_filtered.pcap '(src host 192.168.10.8 and dst host 192.168.10.17) or (src host 192.168.10.17 and dst host 192.168.10.8)'"
   ]
  },
  {
   "cell_type": "code",
   "execution_count": null,
   "id": "c984ef31-3155-46b9-970c-cba975e746ee",
   "metadata": {},
   "outputs": [],
   "source": [
    "%%bash\n",
    "tcpdump -r Infiltration_Dropbox.pcap -w Infiltration_Dropbox_Part2_Ubuntu1632B_filtered.pcap '(src host 192.168.10.8 and dst host 192.168.10.16) or (src host 192.168.10.16 and dst host 192.168.10.8)'"
   ]
  },
  {
   "cell_type": "code",
   "execution_count": null,
   "id": "df5bd2b8-aa55-4ee8-9fd4-727542715072",
   "metadata": {},
   "outputs": [],
   "source": [
    "%%bash\n",
    "tcpdump -r Infiltration_Dropbox.pcap -w Infiltration_Dropbox_Part2_Ubuntu1664B_filtered.pcap '(src host 192.168.10.8 and dst host 192.168.10.12) or (src host 192.168.10.12 and dst host 192.168.10.8)'"
   ]
  },
  {
   "cell_type": "code",
   "execution_count": null,
   "id": "c8f39070-a34b-489b-9aba-06a105fa516f",
   "metadata": {},
   "outputs": [],
   "source": [
    "%%bash\n",
    "tcpdump -r Infiltration_Dropbox.pcap -w Infiltration_Dropbox_Part2_Win7_filtered.pcap '(src host 192.168.10.8 and dst host 192.168.10.9) or (src host 192.168.10.9 and dst host 192.168.10.8)'"
   ]
  },
  {
   "cell_type": "code",
   "execution_count": null,
   "id": "62126433-fba3-4d4b-b455-1c2bb5b40454",
   "metadata": {},
   "outputs": [],
   "source": [
    "%%bash\n",
    "tcpdump -r Infiltration_Dropbox.pcap -w Infiltration_Dropbox_Part2_Win8_filtered.pcap '(src host 192.168.10.8 and dst host 192.168.10.5) or (src host 192.168.10.5 and dst host 192.168.10.8)'"
   ]
  },
  {
   "cell_type": "code",
   "execution_count": null,
   "id": "1a23333e-1edf-430d-a2e0-ef6af9f3a446",
   "metadata": {},
   "outputs": [],
   "source": [
    "%%bash\n",
    "tcpdump -r Infiltration_Dropbox.pcap -w Infiltration_Dropbox_Part2_Win1032B_filtered.pcap '(src host 192.168.10.8 and dst host 192.168.10.14) or (src host 192.168.10.14 and dst host 192.168.10.8)'"
   ]
  },
  {
   "cell_type": "code",
   "execution_count": null,
   "id": "aa5fe3ac-6b20-48e9-a361-31c38c54a56b",
   "metadata": {},
   "outputs": [],
   "source": [
    "%%bash\n",
    "tcpdump -r Infiltration_Dropbox.pcap -w Infiltration_Dropbox_Part2_Win1064B_filtered.pcap '(src host 192.168.10.8 and dst host 192.168.10.15) or (src host 192.168.10.15 and dst host 192.168.10.8)'"
   ]
  },
  {
   "cell_type": "code",
   "execution_count": null,
   "id": "6f929282-071a-4e7d-88f8-d1d45777bc85",
   "metadata": {},
   "outputs": [],
   "source": [
    "%%bash\n",
    "tcpdump -r Infiltration_Dropbox.pcap -w Infiltration_Dropbox_Part2_Mac_filtered.pcap '(src host 192.168.10.8 and dst host 192.168.10.25) or (src host 192.168.10.25 and dst host 192.168.10.8)'"
   ]
  }
 ],
 "metadata": {
  "kernelspec": {
   "display_name": "Python 3 (ipykernel)",
   "language": "python",
   "name": "python3"
  },
  "language_info": {
   "codemirror_mode": {
    "name": "ipython",
    "version": 3
   },
   "file_extension": ".py",
   "mimetype": "text/x-python",
   "name": "python",
   "nbconvert_exporter": "python",
   "pygments_lexer": "ipython3",
   "version": "3.8.10"
  }
 },
 "nbformat": 4,
 "nbformat_minor": 5
}
