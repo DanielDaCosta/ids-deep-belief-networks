{
 "cells": [
  {
   "cell_type": "markdown",
   "id": "4809b44b-84ea-4839-9759-9d11bef6a38a",
   "metadata": {},
   "source": [
    "Botnet ARES - Filter: Time Frame"
   ]
  },
  {
   "cell_type": "code",
   "execution_count": null,
   "id": "88609605-b0db-44b1-977c-27165d8f5abf",
   "metadata": {},
   "outputs": [],
   "source": [
    "%%bash\n",
    "editcap -A \"2017-07-07 05:30:00\" -B \"2017-07-07 08:59:59\" Friday-WorkingHours_NoDuplicates.pcap Botnet.pcap"
   ]
  },
  {
   "cell_type": "markdown",
   "id": "c8649f2e-007a-4a08-aa79-66c55ce56171",
   "metadata": {},
   "source": [
    "Botnet ARES - Filter: Source/Destination IP"
   ]
  },
  {
   "cell_type": "code",
   "execution_count": null,
   "id": "5f39d165-2b13-4fe8-9f45-2bbead77e759",
   "metadata": {},
   "outputs": [],
   "source": [
    "%%bash\n",
    "tcpdump -r Botnet.pcap -w Botnet_Win10_filtered.pcap '(src host 205.174.165.73 and dst host 192.168.10.15) or (src host 192.168.10.15 and dst host 205.174.165.73)'"
   ]
  },
  {
   "cell_type": "code",
   "execution_count": null,
   "id": "3ac29bfd-b60c-4e83-adaf-7e9882e7b019",
   "metadata": {},
   "outputs": [],
   "source": [
    "%%bash\n",
    "tcpdump -r Botnet.pcap -w Botnet_Win10_filtered.pcap '(src host 205.174.165.73 and dst host 192.168.10.9) or (src host 192.168.10.9 and dst host 205.174.165.73)'"
   ]
  },
  {
   "cell_type": "code",
   "execution_count": null,
   "id": "c39106f9-e9e4-41e0-b20b-cc53d5740f67",
   "metadata": {},
   "outputs": [],
   "source": [
    "%%bash\n",
    "tcpdump -r Botnet.pcap -w Botnet_Win10_filtered.pcap '(src host 205.174.165.73 and dst host 192.168.10.14) or (src host 192.168.10.14 and dst host 205.174.165.73)'"
   ]
  },
  {
   "cell_type": "code",
   "execution_count": null,
   "id": "eaedb3ac-7bad-4175-96fb-87a674c8e912",
   "metadata": {},
   "outputs": [],
   "source": [
    "%%bash\n",
    "tcpdump -r Botnet.pcap -w Botnet_Win10_filtered.pcap '(src host 205.174.165.73 and dst host 192.168.10.5) or (src host 192.168.10.5 and dst host 205.174.165.73)'"
   ]
  },
  {
   "cell_type": "code",
   "execution_count": null,
   "id": "a6e0d962-f3d5-4f95-a7f1-e93374dd906e",
   "metadata": {},
   "outputs": [],
   "source": [
    "%%bash\n",
    "tcpdump -r Botnet.pcap -w Botnet_Win10_filtered.pcap '(src host 205.174.165.73 and dst host 192.168.10.8) or (src host 192.168.10.8 and dst host 205.174.165.73)'"
   ]
  },
  {
   "cell_type": "code",
   "execution_count": null,
   "id": "39cd0d19-2541-4df5-adb9-c820857e6f56",
   "metadata": {},
   "outputs": [],
   "source": []
  },
  {
   "cell_type": "markdown",
   "id": "6cbe51f6-1e7c-4432-8331-464541c7b22b",
   "metadata": {},
   "source": [
    "Port Scan - Filter: Time Frame"
   ]
  },
  {
   "cell_type": "code",
   "execution_count": null,
   "id": "57d1882d-75b8-4aab-bdb7-2987cebe2c2b",
   "metadata": {},
   "outputs": [],
   "source": [
    "%%bash\n",
    "editcap -A \"2017-07-07 08:30:00\" -B \"2017-07-07 11:40:00\" Friday-WorkingHours_NoDuplicates.pcap Port_Scan.pcap"
   ]
  },
  {
   "cell_type": "code",
   "execution_count": null,
   "id": "de674b45-7e5c-4379-b852-be158787b88c",
   "metadata": {},
   "outputs": [],
   "source": [
    "Port Scan - Filter: Source/Destination IP"
   ]
  },
  {
   "cell_type": "code",
   "execution_count": null,
   "id": "1d1802e0-8638-42a3-b2c2-1fad24bde625",
   "metadata": {},
   "outputs": [],
   "source": [
    "%%bash\n",
    "tcpdump -r Port_Scan.pcap -w Port_Scan_filtered.pcap '(src host 172.16.0.1 and dst host 192.168.10.50) or (src host 192.168.10.50 and dst host 172.16.0.1)'"
   ]
  },
  {
   "cell_type": "code",
   "execution_count": null,
   "id": "c8f6c114-9007-4245-9df3-983762dc0966",
   "metadata": {},
   "outputs": [],
   "source": []
  },
  {
   "cell_type": "code",
   "execution_count": null,
   "id": "e43e1ab4-da63-4823-a9fe-5670298b331e",
   "metadata": {},
   "outputs": [],
   "source": [
    "DDoS LOIT - Filter: Time Frame"
   ]
  },
  {
   "cell_type": "code",
   "execution_count": null,
   "id": "7904d775-a214-4f17-a794-27d3b69d85e7",
   "metadata": {},
   "outputs": [],
   "source": [
    "%%bash\n",
    "editcap -A \"2017-07-07 11:40:00\" -B \"2017-07-07 12:30:00\" Friday-WorkingHours_NoDuplicates.pcap DDoS.pcap"
   ]
  },
  {
   "cell_type": "code",
   "execution_count": null,
   "id": "f5f2f38f-6fae-4ad5-aec2-2c0643a63b73",
   "metadata": {},
   "outputs": [],
   "source": [
    "DDoS LOIT - Filter: Source/Destination IP"
   ]
  },
  {
   "cell_type": "code",
   "execution_count": null,
   "id": "afaa340a-9043-434a-9d2f-c86cc0b301e6",
   "metadata": {},
   "outputs": [],
   "source": [
    "tcpdump -r DDoS.pcap -w DDoS_filtered.pcap '(src host 172.16.0.1 and dst host 192.168.10.50) or (src host 192.168.10.50 and dst host 172.16.0.1)'"
   ]
  }
 ],
 "metadata": {
  "kernelspec": {
   "display_name": "Python 3 (ipykernel)",
   "language": "python",
   "name": "python3"
  },
  "language_info": {
   "codemirror_mode": {
    "name": "ipython",
    "version": 3
   },
   "file_extension": ".py",
   "mimetype": "text/x-python",
   "name": "python",
   "nbconvert_exporter": "python",
   "pygments_lexer": "ipython3",
   "version": "3.8.10"
  }
 },
 "nbformat": 4,
 "nbformat_minor": 5
}
