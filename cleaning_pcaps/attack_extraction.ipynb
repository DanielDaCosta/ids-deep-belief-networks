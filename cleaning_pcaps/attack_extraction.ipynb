{
 "cells": [
  {
   "cell_type": "markdown",
   "id": "9a713e6a-e6c5-4949-8acd-0d868c9477e4",
   "metadata": {},
   "source": [
    "For Tuesday, July 4, 2017 attacks:"
   ]
  },
  {
   "cell_type": "code",
   "execution_count": null,
   "id": "2d9fa000-a6a0-44cb-9df5-613461295261",
   "metadata": {},
   "outputs": [],
   "source": [
    "%%bash\n",
    "editcap -A \"2017-07-04 09:17:00\" -B \"2017-07-04 10:30:59\" Tuesday-WorkingHours_NoDuplicates.pcap FTP_Patator.pcap\n",
    "editcap -A \"2017-07-04 13:00:00\" -B \"2017-07-04 16:11:59\" Tuesday-WorkingHours_NoDuplicates.pcap SSH_Patator.pcap"
   ]
  },
  {
   "cell_type": "markdown",
   "id": "a7a76da2-7334-41f7-8e0f-326c779ea03c",
   "metadata": {},
   "source": [
    "For Wednesday, July 5, 2017 attacks:"
   ]
  },
  {
   "cell_type": "code",
   "execution_count": null,
   "id": "12f266b5-20f0-47f8-b103-1303c8f9c17b",
   "metadata": {},
   "outputs": [],
   "source": [
    "%%bash\n",
    "editcap -A \"2017-07-05 02:23:00\" -B \"2017-07-05 10:12:59\" Wednesday-workingHours_NoDuplicates.pcap DoS_Slowloris.pcap\n",
    "editcap -A \"2017-07-05 10:13:00\" -B \"2017-07-05 10:38:59\" Wednesday-workingHours_NoDuplicates.pcap DoS_SlowHTTPtest.pcap\n",
    "editcap -A \"2017-07-05 10:39:00\" -B \"2017-07-05 11:09:59\" Wednesday-workingHours_NoDuplicates.pcap DoS_Hulk.pcap\n",
    "editcap -A \"2017-07-05 11:10:00\" -B \"2017-07-05 11:23:59\" Wednesday-workingHours_NoDuplicates.pcap DoS_GoldenEye.pcap\n",
    "editcap -A \"2017-07-05 15:11:00\" -B \"2017-07-05 15:33:59\" Wednesday-workingHours_NoDuplicates.pcap Heartbleed.pcap"
   ]
  },
  {
   "cell_type": "markdown",
   "id": "c59426f6-ee36-40f0-a235-1f46a48956b7",
   "metadata": {},
   "source": [
    "For Thursday, July 6, 2017 attacks:"
   ]
  },
  {
   "cell_type": "code",
   "execution_count": null,
   "id": "742c78d4-8a92-4709-a0a4-87af40ac2e38",
   "metadata": {},
   "outputs": [],
   "source": [
    "%%bash\n",
    "editcap -A \"2017-07-06 09:10:00\" -B \"2017-07-06 10:12:00\" Thursday-WorkingHours_NoDuplicates.pcap Web_Attack_Brute_Force.pcap\n",
    "editcap -A \"2017-07-06 10:13:00\" -B \"2017-07-06 10:37:00\" Thursday-WorkingHours_NoDuplicates.pcap Web_Attack_XSS.pcap\n",
    "editcap -A \"2017-07-06 10:39:00\" -B \"2017-07-06 10:45:00\" Thursday-WorkingHours_NoDuplicates.pcap Web_Attack_Sql_Injection.pcap\n",
    "editcap -A \"2017-07-06 14:15:00\" -B \"2017-07-06 15:50:00\" Thursday-WorkingHours_NoDuplicates.pcap Infiltration.pcap"
   ]
  },
  {
   "cell_type": "markdown",
   "id": "d116c7e0-f6bc-4af8-92b1-8d0d67bac332",
   "metadata": {},
   "source": [
    "For Friday, July 7, 2017 attacks:"
   ]
  },
  {
   "cell_type": "code",
   "execution_count": null,
   "id": "6f732a65-8891-40be-9394-ecab5280de0a",
   "metadata": {},
   "outputs": [],
   "source": [
    "%%bash\n",
    "editcap -A \"2017-07-07 09:30:00\" -B \"2017-07-07 12:59:59\" Friday-WorkingHours_NoDuplicates.pcap Botnet.pcap\n",
    "editcap -A \"2017-07-07 12:30:00\" -B \"2017-07-07 15:40:00\" Friday-WorkingHours_NoDuplicates.pcap Port_Scan.pcap\n",
    "editcap -A \"2017-07-07 15:40:00\" -B \"2017-07-07 16:30:00\" Friday-WorkingHours_NoDuplicates.pcap DDoS.pca"
   ]
  }
 ],
 "metadata": {
  "kernelspec": {
   "display_name": "Python 3 (ipykernel)",
   "language": "python",
   "name": "python3"
  },
  "language_info": {
   "codemirror_mode": {
    "name": "ipython",
    "version": 3
   },
   "file_extension": ".py",
   "mimetype": "text/x-python",
   "name": "python",
   "nbconvert_exporter": "python",
   "pygments_lexer": "ipython3",
   "version": "3.8.10"
  }
 },
 "nbformat": 4,
 "nbformat_minor": 5
}
