{
 "cells": [
  {
   "cell_type": "code",
   "execution_count": null,
   "id": "873dc7c3-b02a-4dc5-8fb5-2e2e9b51396f",
   "metadata": {},
   "outputs": [],
   "source": [
    "!editcap -d Monday-WorkingHours.pcap Monday-WorkingHours_NoDuplicates.pcap"
   ]
  },
  {
   "cell_type": "markdown",
   "id": "2f19a034-a62c-4ec3-be91-b4dde09fbed8",
   "metadata": {},
   "source": [
    "11709971 packets seen, 514048 packets skipped with duplicate window of 5 packets."
   ]
  },
  {
   "cell_type": "code",
   "execution_count": null,
   "id": "bf5ecf83-6be4-4308-a47b-fa93409fa403",
   "metadata": {},
   "outputs": [],
   "source": [
    "!editcap -d Tuesday-WorkingHours.pcap Tuesday-WorkingHours_NoDuplicates.pcap "
   ]
  },
  {
   "cell_type": "markdown",
   "id": "91fc1e39-6437-45fe-8f27-4bdf16de70af",
   "metadata": {},
   "source": [
    "11551954 packets seen, 482239 packets skipped with duplicate window of 5 packets."
   ]
  },
  {
   "cell_type": "code",
   "execution_count": null,
   "id": "7a072510-bd90-46ff-a02c-96535488ca83",
   "metadata": {},
   "outputs": [],
   "source": [
    "!editcap -d Wednesday-workingHours.pcap Wednesday-workingHours_NoDuplicates.pcap "
   ]
  },
  {
   "cell_type": "markdown",
   "id": "f1818c89-1200-4316-9f6f-199f2b2efc93",
   "metadata": {},
   "source": [
    "13788878 packets seen, 479880 packets skipped with duplicate window of 5 packets."
   ]
  },
  {
   "cell_type": "code",
   "execution_count": null,
   "id": "38859ac2-6f88-43ad-984d-18edb89cac15",
   "metadata": {},
   "outputs": [],
   "source": [
    "!editcap -d Thursday-WorkingHours.pcap Thursday-WorkingHours_NoDuplicates.pcap "
   ]
  },
  {
   "cell_type": "markdown",
   "id": "335534b1-0e75-4f6b-8aa8-543161d24259",
   "metadata": {},
   "source": [
    "9322025 packets seen, 547889 packets skipped with duplicate window of 5 packets."
   ]
  },
  {
   "cell_type": "code",
   "execution_count": null,
   "id": "b872b614-719e-4d92-b1ca-ea8f046a555c",
   "metadata": {},
   "outputs": [],
   "source": [
    "!editcap -d Friday-WorkingHours.pcap Friday-WorkingHours_NoDuplicates.pcap "
   ]
  },
  {
   "cell_type": "markdown",
   "id": "94bc2332-ffcc-4c98-a40c-4a60c01d44db",
   "metadata": {},
   "source": [
    "9997874 packets seen, 466074 packets skipped with duplicate window of 5 packets."
   ]
  },
  {
   "cell_type": "code",
   "execution_count": null,
   "id": "0a0bc6f3-cc78-40f5-a097-7205c19fd220",
   "metadata": {},
   "outputs": [],
   "source": []
  }
 ],
 "metadata": {
  "kernelspec": {
   "display_name": "Python 3 (ipykernel)",
   "language": "python",
   "name": "python3"
  },
  "language_info": {
   "codemirror_mode": {
    "name": "ipython",
    "version": 3
   },
   "file_extension": ".py",
   "mimetype": "text/x-python",
   "name": "python",
   "nbconvert_exporter": "python",
   "pygments_lexer": "ipython3",
   "version": "3.8.10"
  }
 },
 "nbformat": 4,
 "nbformat_minor": 5
}
