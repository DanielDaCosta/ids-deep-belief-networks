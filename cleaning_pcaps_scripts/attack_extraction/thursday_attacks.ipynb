{
 "cells": [
  {
   "cell_type": "markdown",
   "id": "1c73a0a6-f101-4fc8-8b44-05f6c8959c2e",
   "metadata": {},
   "source": [
    "WebAttack_BruteForce - Filter: Time Frame"
   ]
  },
  {
   "cell_type": "code",
   "execution_count": null,
   "id": "f33e9710-9576-465e-936d-b529775bc0e9",
   "metadata": {},
   "outputs": [],
   "source": [
    "%%bash\n",
    "editcap -A \"2017-07-06 05:10:00\" -B \"2017-07-06 06:12:00\" Thursday-WorkingHours_DeDup.pcap \"Thursday-WorkingHours_DeDup(9:10am-10:12am).pcap\""
   ]
  },
  {
   "cell_type": "markdown",
   "id": "4bf928b2-b495-47c6-8d7d-34cb407662eb",
   "metadata": {},
   "source": [
    "Web_Attack_Brute_Force - Filter: Source/Destination IP"
   ]
  },
  {
   "cell_type": "code",
   "execution_count": null,
   "id": "f31ba178-e0d1-41b9-ba28-f95febce77d9",
   "metadata": {},
   "outputs": [],
   "source": [
    "tcpdump -r \"Thursday-WorkingHours_DeDup(9:10am-10:12am).pcap\" -w WebAttack_BruteForce.pcap '(src host 172.16.0.1 and dst host 192.168.10.50) or (src host 192.168.10.50 and dst host 172.16.0.1)'"
   ]
  },
  {
   "cell_type": "code",
   "execution_count": null,
   "id": "cbd42ca7-5df5-4d24-8abb-dde63b6e457f",
   "metadata": {},
   "outputs": [],
   "source": []
  },
  {
   "cell_type": "markdown",
   "id": "3f05d8b8-f67c-41af-a0aa-73c29a3e5ab8",
   "metadata": {},
   "source": [
    "WebAttack_XSS - Filter: Time Frame"
   ]
  },
  {
   "cell_type": "code",
   "execution_count": null,
   "id": "33c26d9f-324a-4c1d-9b8e-1e849bbf2c03",
   "metadata": {},
   "outputs": [],
   "source": [
    "%%bash\n",
    "editcap -A \"2017-07-06 06:13:00\" -B \"2017-07-06 06:37:00\" Thursday-WorkingHours_DeDup.pcap \"Thursday-WorkingHours_DeDup(10:13am-10:37am).pcap\""
   ]
  },
  {
   "cell_type": "markdown",
   "id": "cfb0d0c3-0acb-4269-9db7-5b19baf7e64c",
   "metadata": {},
   "source": [
    "WebAttack_XSS - Filter: Source/Destination IP"
   ]
  },
  {
   "cell_type": "code",
   "execution_count": null,
   "id": "ea555228-9c49-4320-8303-051c9dc3b0f9",
   "metadata": {},
   "outputs": [],
   "source": [
    "%%bash\n",
    "tcpdump -r \"Thursday-WorkingHours_DeDup(10:13am-10:37am).pcap\" -w WebAttack_XSS.pcap '(src host 172.16.0.1 and dst host 192.168.10.50) or (src host 192.168.10.50 and dst host 172.16.0.1)'"
   ]
  },
  {
   "cell_type": "code",
   "execution_count": null,
   "id": "2bc36b5a-510c-4170-a04e-5db773e15fd5",
   "metadata": {},
   "outputs": [],
   "source": []
  },
  {
   "cell_type": "markdown",
   "id": "fdef8251-5321-44f3-ac7c-46d0f927fecf",
   "metadata": {},
   "source": [
    "WebAttack_Sqli - Filter: Time Frame"
   ]
  },
  {
   "cell_type": "code",
   "execution_count": null,
   "id": "12ed4b73-10cf-47ed-b60b-bc27b0764a5a",
   "metadata": {},
   "outputs": [],
   "source": [
    "%%bash\n",
    "editcap -A \"2017-07-06 06:39:00\" -B \"2017-07-06 06:45:00\" Thursday-WorkingHours_DeDup.pcap \"Thursday-WorkingHours_DeDup(10:39am-10:45am).pcap\""
   ]
  },
  {
   "cell_type": "markdown",
   "id": "0f06d1dd-9127-4a4c-9efc-d01b63cd33a6",
   "metadata": {},
   "source": [
    "WebAttack_Sqli - Filter: SourceDestination IP"
   ]
  },
  {
   "cell_type": "code",
   "execution_count": null,
   "id": "0413039f-a4e9-4a31-8391-06efb5378e16",
   "metadata": {},
   "outputs": [],
   "source": [
    "%%bash\n",
    "tcpdump -r \"Thursday-WorkingHours_DeDup(10:39am-10:45am).pcap\" -w WebAttack_Sqli.pcap '(src host 172.16.0.1 and dst host 192.168.10.50) or (src host 192.168.10.50 and dst host 172.16.0.1)'"
   ]
  },
  {
   "cell_type": "code",
   "execution_count": null,
   "id": "1c54fea3-c397-4e8e-b257-0f88315b42a3",
   "metadata": {},
   "outputs": [],
   "source": []
  },
  {
   "cell_type": "markdown",
   "id": "2d267fb1-4b4b-4e1d-8a3b-8fbc5c9ce83e",
   "metadata": {},
   "source": [
    "Infiltration_Meta - Filter: Time Frame"
   ]
  },
  {
   "cell_type": "code",
   "execution_count": null,
   "id": "e26781d6-2ffc-4646-8dfe-3d5465a833e2",
   "metadata": {},
   "outputs": [],
   "source": [
    "%%bash\n",
    "editcap -A \"2017-07-06 10:19:00\" -B \"2017-07-06 10:21:00\" Thursday-WorkingHours_DeDup.pcap \"Thursday-WorkingHours_DeDup(2:19pm-2:21pm).pcap\"\n",
    "editcap -A \"2017-07-06 10:33:00\" -B \"2017-07-06 10:35:00\" Thursday-WorkingHours_DeDup.pcap \"Thursday-WorkingHours_DeDup(2:33pm-2:35pm).pcap\""
   ]
  },
  {
   "cell_type": "markdown",
   "id": "c958cdb4-af1d-4059-ac7b-18eb8aa0f6fa",
   "metadata": {},
   "source": [
    "Infiltration_Meta - Filter: Source/Destination IP"
   ]
  },
  {
   "cell_type": "code",
   "execution_count": null,
   "id": "96694605-b4b9-4cd5-ba4a-3b0c5f2f134b",
   "metadata": {},
   "outputs": [],
   "source": [
    "%%bash\n",
    "tcpdump -r \"Thursday-WorkingHours_DeDup(2:19pm-2:21pm).pcap\" -w Infiltration_Meta_WinVista.pcap '(src host 205.174.165.73 and dst host 192.168.10.8) or (src host 192.168.10.8 and dst host 205.174.165.73)'\n",
    "tcpdump -r \"Thursday-WorkingHours_DeDup(2:33pm-2:35pm).pcap\" -w Infiltration_Meta_Part2_WinVista.pcap '(src host 205.174.165.73 and dst host 192.168.10.8) or (src host 192.168.10.8 and dst host 205.174.165.73)'"
   ]
  },
  {
   "cell_type": "code",
   "execution_count": null,
   "id": "3568f0d4-b402-408a-b4f3-58ef91a9d489",
   "metadata": {},
   "outputs": [],
   "source": []
  },
  {
   "cell_type": "markdown",
   "id": "ef1fa659-c8cf-4c37-8690-6c96f3361d6e",
   "metadata": {},
   "source": [
    "Infiltration_Cooldisk - Filter: Time Frame"
   ]
  },
  {
   "cell_type": "code",
   "execution_count": null,
   "id": "cb0c02c8-b25c-40b3-9cee-5916b31bf792",
   "metadata": {},
   "outputs": [],
   "source": [
    "%%bash\n",
    "editcap -A \"2017-07-06 10:53:00\" -B \"2017-07-06 11:00:00\" Thursday-WorkingHours_DeDup.pcap \"Thursday-WorkingHours_DeDup(2:53pm-3:00pm).pcap\""
   ]
  },
  {
   "cell_type": "markdown",
   "id": "cecb2949-2fcc-4b7d-a133-56bc9c454e79",
   "metadata": {},
   "source": [
    "Infiltration_Cooldisk - Filter: Source/Destination IP"
   ]
  },
  {
   "cell_type": "code",
   "execution_count": null,
   "id": "5a895793-8668-48b8-bc4e-99c307bbf5fe",
   "metadata": {},
   "outputs": [],
   "source": [
    "%%bash\n",
    "tcpdump -r \"Thursday-WorkingHours_DeDup(2:53pm-3:00pm).pcap\" -w Infiltration_CoolDisk_Mac.pcap '(src host 205.174.165.73 and dst host 192.168.10.25) or (src host 192.168.10.25 and dst host 205.174.165.73)'"
   ]
  },
  {
   "cell_type": "code",
   "execution_count": null,
   "id": "504a5031-5258-43fe-9bb3-1abf15722c6a",
   "metadata": {},
   "outputs": [],
   "source": []
  },
  {
   "cell_type": "markdown",
   "id": "9e2c0d0f-4cfc-4de3-ae3e-b6c70608cc2f",
   "metadata": {},
   "source": [
    "Infiltration Dropbox - Filter: Time Frame"
   ]
  },
  {
   "cell_type": "code",
   "execution_count": null,
   "id": "a9bee772-29a3-480e-8ab8-6457dd3b7333",
   "metadata": {},
   "outputs": [],
   "source": [
    "%%bash\n",
    "editcap -A \"2017-07-06 11:04:00\" -B \"2017-07-06 11:45:00\" Thursday-WorkingHours_DeDup.pcap \"Thursday-WorkingHours_DeDup(3:04pm-3:45pm).pcap\""
   ]
  },
  {
   "cell_type": "markdown",
   "id": "71e66383-76aa-4982-afe0-788784468bdc",
   "metadata": {},
   "source": [
    "Infiltration Dropbox Part 1 - Filter: Source/Destination IP"
   ]
  },
  {
   "cell_type": "code",
   "execution_count": null,
   "id": "09b455dd-6da4-4192-a6ab-22050d03157c",
   "metadata": {},
   "outputs": [],
   "source": [
    "%%bash\n",
    "tcpdump -r \"Thursday-WorkingHours_DeDup(3:04pm-3:45pm).pcap\" -w Infiltration_Dropbox_P1_WinVista.pcap '(src host 205.174.165.73 and dst host 192.168.10.8) or (src host 192.168.10.8 and dst host 205.174.165.73)'"
   ]
  },
  {
   "cell_type": "code",
   "execution_count": null,
   "id": "67bbff97-ab7c-4284-9097-2bfe01db296c",
   "metadata": {},
   "outputs": [],
   "source": [
    "Infiltration Dropbox Part 2 - Filter: Source/Destination IP"
   ]
  },
  {
   "cell_type": "code",
   "execution_count": null,
   "id": "84c12e18-77fb-430f-b1cc-f46132e5d657",
   "metadata": {},
   "outputs": [],
   "source": [
    "%%bash\n",
    "tcpdump -r \"Thursday-WorkingHours_DeDup(3:04pm-3:45pm).pcap\" -w Infiltration_Dropbox_P2_Webserver16.pcap '(src host 192.168.10.8 and dst host 192.168.10.50) or (src host 192.168.10.50 and dst host 192.168.10.8)'"
   ]
  },
  {
   "cell_type": "code",
   "execution_count": null,
   "id": "9fdf3959-8e10-4f40-a6ea-c8f8ccad753a",
   "metadata": {},
   "outputs": [],
   "source": [
    "%%bash\n",
    "tcpdump -r \"Thursday-WorkingHours_DeDup(3:04pm-3:45pm).pcap\" -w Infiltration_Dropbox_P2_Ubuntuserver12.pcap '(src host 192.168.10.8 and dst host 192.168.10.51) or (src host 192.168.10.51 and dst host 192.168.10.8)'"
   ]
  },
  {
   "cell_type": "code",
   "execution_count": null,
   "id": "1e0eacee-3e84-49b1-b57f-d202aae9074d",
   "metadata": {},
   "outputs": [],
   "source": [
    "%%bash\n",
    "tcpdump -r \"Thursday-WorkingHours_DeDup(3:04pm-3:45pm).pcap\" -w Infiltration_Dropbox_P2_Ubuntu1432B.pcap '(src host 192.168.10.8 and dst host 192.168.10.19) or (src host 192.168.10.19 and dst host 192.168.10.8)'"
   ]
  },
  {
   "cell_type": "code",
   "execution_count": null,
   "id": "e156f385-5b9e-431e-b733-bad275d19a1d",
   "metadata": {},
   "outputs": [],
   "source": [
    "%%bash\n",
    "tcpdump -r \"Thursday-WorkingHours_DeDup(3:04pm-3:45pm).pcap\" -w Infiltration_Dropbox_P2_Ubuntu1464B.pcap '(src host 192.168.10.8 and dst host 192.168.10.17) or (src host 192.168.10.17 and dst host 192.168.10.8)'"
   ]
  },
  {
   "cell_type": "code",
   "execution_count": null,
   "id": "c984ef31-3155-46b9-970c-cba975e746ee",
   "metadata": {},
   "outputs": [],
   "source": [
    "%%bash\n",
    "tcpdump -r \"Thursday-WorkingHours_DeDup(3:04pm-3:45pm).pcap\" -w Infiltration_Dropbox_P2_Ubuntu1632B.pcap '(src host 192.168.10.8 and dst host 192.168.10.16) or (src host 192.168.10.16 and dst host 192.168.10.8)'"
   ]
  },
  {
   "cell_type": "code",
   "execution_count": null,
   "id": "df5bd2b8-aa55-4ee8-9fd4-727542715072",
   "metadata": {},
   "outputs": [],
   "source": [
    "%%bash\n",
    "tcpdump -r \"Thursday-WorkingHours_DeDup(3:04pm-3:45pm).pcap\" -w Infiltration_Dropbox_P2_Ubuntu1664B.pcap '(src host 192.168.10.8 and dst host 192.168.10.12) or (src host 192.168.10.12 and dst host 192.168.10.8)'"
   ]
  },
  {
   "cell_type": "code",
   "execution_count": null,
   "id": "c8f39070-a34b-489b-9aba-06a105fa516f",
   "metadata": {},
   "outputs": [],
   "source": [
    "%%bash\n",
    "tcpdump -r \"Thursday-WorkingHours_DeDup(3:04pm-3:45pm).pcap\" -w Infiltration_Dropbox_P2_Win7.pcap '(src host 192.168.10.8 and dst host 192.168.10.9) or (src host 192.168.10.9 and dst host 192.168.10.8)'"
   ]
  },
  {
   "cell_type": "code",
   "execution_count": null,
   "id": "62126433-fba3-4d4b-b455-1c2bb5b40454",
   "metadata": {},
   "outputs": [],
   "source": [
    "%%bash\n",
    "tcpdump -r \"Thursday-WorkingHours_DeDup(3:04pm-3:45pm).pcap\" -w Infiltration_Dropbox_P2_Win8.pcap '(src host 192.168.10.8 and dst host 192.168.10.5) or (src host 192.168.10.5 and dst host 192.168.10.8)'"
   ]
  },
  {
   "cell_type": "code",
   "execution_count": null,
   "id": "1a23333e-1edf-430d-a2e0-ef6af9f3a446",
   "metadata": {},
   "outputs": [],
   "source": [
    "%%bash\n",
    "tcpdump -r \"Thursday-WorkingHours_DeDup(3:04pm-3:45pm).pcap\" -w Infiltration_Dropbox_P2_Win1032B.pcap '(src host 192.168.10.8 and dst host 192.168.10.14) or (src host 192.168.10.14 and dst host 192.168.10.8)'"
   ]
  },
  {
   "cell_type": "code",
   "execution_count": null,
   "id": "aa5fe3ac-6b20-48e9-a361-31c38c54a56b",
   "metadata": {},
   "outputs": [],
   "source": [
    "%%bash\n",
    "tcpdump -r \"Thursday-WorkingHours_DeDup(3:04pm-3:45pm).pcap\" -w Infiltration_Dropbox_P2_Win1064B.pcap '(src host 192.168.10.8 and dst host 192.168.10.15) or (src host 192.168.10.15 and dst host 192.168.10.8)'"
   ]
  },
  {
   "cell_type": "code",
   "execution_count": null,
   "id": "6f929282-071a-4e7d-88f8-d1d45777bc85",
   "metadata": {},
   "outputs": [],
   "source": [
    "%%bash\n",
    "tcpdump -r \"Thursday-WorkingHours_DeDup(3:04pm-3:45pm).pcap\" -w Infiltration_Dropbox_P2_Mac.pcap '(src host 192.168.10.8 and dst host 192.168.10.25) or (src host 192.168.10.25 and dst host 192.168.10.8)'"
   ]
  },
  {
   "cell_type": "markdown",
   "id": "c9dce67d-d5f5-4ded-8d5e-23cf303a9711",
   "metadata": {},
   "source": [
    "Merge_P2_pcaps"
   ]
  },
  {
   "cell_type": "code",
   "execution_count": null,
   "id": "dd5e5d01-26d8-40a6-bd2c-c871ec70aa5b",
   "metadata": {},
   "outputs": [],
   "source": [
    "%%bash\n",
    "mergecap -w Infiltration_Dropbox_P2_All.pcap Infiltration_Dropbox_P2_Mac.pcap Infiltration_Dropbox_P2_Ubuntu1432B.pcap Infiltration_Dropbox_P2_Ubuntu1464B.pcap Infiltration_Dropbox_P2_Ubuntu1632B.pcap Infiltration_Dropbox_P2_Ubuntu1664B.pcap Infiltration_Dropbox_P2_Ubuntuserver12.pcap Infiltration_Dropbox_P2_Webserver16.pcap Infiltration_Dropbox_P2_Win7.pcap Infiltration_Dropbox_P2_Win8.pcap Infiltration_Dropbox_P2_Win1032B.pcap Infiltration_Dropbox_P2_Win1064B.pcap "
   ]
  }
 ],
 "metadata": {
  "kernelspec": {
   "display_name": "Python 3 (ipykernel)",
   "language": "python",
   "name": "python3"
  },
  "language_info": {
   "codemirror_mode": {
    "name": "ipython",
    "version": 3
   },
   "file_extension": ".py",
   "mimetype": "text/x-python",
   "name": "python",
   "nbconvert_exporter": "python",
   "pygments_lexer": "ipython3",
   "version": "3.8.10"
  }
 },
 "nbformat": 4,
 "nbformat_minor": 5
}
