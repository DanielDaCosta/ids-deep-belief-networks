{
 "cells": [
  {
   "cell_type": "markdown",
   "id": "15564414-f2b8-48e9-bab6-93c4b9f06678",
   "metadata": {},
   "source": [
    "Find all TCP and UDP streams sequence numbers from pcap"
   ]
  },
  {
   "cell_type": "code",
   "execution_count": null,
   "id": "248c42d3-a829-4af9-8c3c-f5c9b6ea8b8c",
   "metadata": {},
   "outputs": [],
   "source": [
    "%%bash \n",
    "tshark -r Infiltration_Dropbox_P2_All.pcap -Y \"tcp || udp\" -T fields -e tcp.stream -e udp.stream | sort | uniq > Infiltration_Dropbox_P2_all_streams.txt"
   ]
  },
  {
   "cell_type": "markdown",
   "id": "6b3d88c4-f93f-47b5-af35-fd4965b0b167",
   "metadata": {},
   "source": [
    "Take 1% of the total TCP and UDP streams sequence numbers from pcap"
   ]
  },
  {
   "cell_type": "code",
   "execution_count": null,
   "id": "ea160c14-7480-44db-bef0-67a7e38e2fd2",
   "metadata": {},
   "outputs": [],
   "source": [
    "%%bash \n",
    "total_streams=$(wc -l < Infiltration_Dropbox_P2_all_streams.txt)\n",
    "select_count=$((total_streams * 10 / 100))  # Adjust the percentage here\n",
    "shuf Infiltration_Dropbox_P2_all_streams.txt | head -n $select_count > Infiltration_Dropbox_P2_selected_streams.txt"
   ]
  },
  {
   "cell_type": "markdown",
   "id": "b90d77f7-3c64-4cd7-8b8d-3cca8b00bd18",
   "metadata": {},
   "source": [
    "Extract the selected TCP and UDP streams from pcap"
   ]
  },
  {
   "cell_type": "code",
   "execution_count": null,
   "id": "22599eba-a645-4c01-8e63-2096c943c8bd",
   "metadata": {},
   "outputs": [],
   "source": [
    "%%bash\n",
    "output_file=\"Infiltration_Dropbox_P2_All.pcap\"\n",
    "> $output_file\n",
    "\n",
    "# Determine chunk size, e.g., 100 streams per chunk\n",
    "chunk_size=100\n",
    "total_lines=$(cat Infiltration_Dropbox_P2_selected_streams.txt | wc -l)\n",
    "num_chunks=$((total_lines / chunk_size + (total_lines % chunk_size > 0)))\n",
    "\n",
    "for ((i = 1; i <= num_chunks; i++)); do\n",
    "    start_line=$(( (i - 1) * chunk_size + 1 ))\n",
    "    end_line=$(( i * chunk_size ))\n",
    "    \n",
    "    filter=\"\"\n",
    "    for stream in $(sed -n \"${start_line},${end_line}p\" Infiltration_Dropbox_P2_selected_streams.txt); do\n",
    "        filter=\"${filter:+$filter || }tcp.stream==$stream || udp.stream==$stream\"\n",
    "    done\n",
    "    \n",
    "    tshark -r Infiltration_Dropbox_P2_All.pcap -Y \"$filter\" -w \"Infiltration_Dropbox_P2_chunk_${i}.pcap\"\n",
    "done\n",
    "\n",
    "# Merge all chunks\n",
    "mergecap -w $output_file Infiltration_Dropbox_P2_chunk_*.pcap\n",
    "\n",
    "# Cleanup\n",
    "rm Infiltration_Dropbox_P2_chunk_*.pcap"
   ]
  }
 ],
 "metadata": {
  "kernelspec": {
   "display_name": "Python 3 (ipykernel)",
   "language": "python",
   "name": "python3"
  },
  "language_info": {
   "codemirror_mode": {
    "name": "ipython",
    "version": 3
   },
   "file_extension": ".py",
   "mimetype": "text/x-python",
   "name": "python",
   "nbconvert_exporter": "python",
   "pygments_lexer": "ipython3",
   "version": "3.8.10"
  }
 },
 "nbformat": 4,
 "nbformat_minor": 5
}
