{
 "cells": [
  {
   "cell_type": "markdown",
   "id": "15564414-f2b8-48e9-bab6-93c4b9f06678",
   "metadata": {},
   "source": [
    "Find all TCP and UDP streams sequence numbers from pcap"
   ]
  },
  {
   "cell_type": "code",
   "execution_count": null,
   "id": "248c42d3-a829-4af9-8c3c-f5c9b6ea8b8c",
   "metadata": {},
   "outputs": [],
   "source": [
    "%%bash \n",
    "tshark -r WebAttack_Sqli.pcap -Y \"tcp || udp\" -T fields -e tcp.stream -e udp.stream | sort | uniq > WebAttack_Sqli_all_streams.txt"
   ]
  },
  {
   "cell_type": "markdown",
   "id": "6b3d88c4-f93f-47b5-af35-fd4965b0b167",
   "metadata": {},
   "source": [
    "Take 1% of the total TCP and UDP streams sequence numbers from pcap"
   ]
  },
  {
   "cell_type": "code",
   "execution_count": null,
   "id": "ea160c14-7480-44db-bef0-67a7e38e2fd2",
   "metadata": {},
   "outputs": [],
   "source": [
    "%%bash \n",
    "total_streams=$(wc -l < WebAttack_Sqli_all_streams.txt)\n",
    "select_count=$((total_streams * 10 / 100))  # Adjust the percentage here\n",
    "shuf WebAttack_Sqli_all_streams.txt | head -n $select_count > WebAttack_Sqli_selected_streams.txt"
   ]
  },
  {
   "cell_type": "markdown",
   "id": "b90d77f7-3c64-4cd7-8b8d-3cca8b00bd18",
   "metadata": {},
   "source": [
    "Extract the selected TCP and UDP streams from pcap"
   ]
  },
  {
   "cell_type": "code",
   "execution_count": null,
   "id": "6fdc4665-1388-4300-9723-528af35c3de0",
   "metadata": {},
   "outputs": [],
   "source": [
    "%%bash\n",
    "output_file=\"WebAttack_Sqli_10per_streams.pcap\"\n",
    "> $output_file\n",
    "\n",
    "filter=\"\"\n",
    "for stream in $(cat WebAttack_Sqli_selected_streams.txt); do\n",
    "    filter=\"${filter:+$filter || }tcp.stream==$stream || udp.stream==$stream\"\n",
    "done\n",
    "\n",
    "tshark -r WebAttack_Sqli.pcap -Y \"$filter\" -w $output_file"
   ]
  }
 ],
 "metadata": {
  "kernelspec": {
   "display_name": "Python 3 (ipykernel)",
   "language": "python",
   "name": "python3"
  },
  "language_info": {
   "codemirror_mode": {
    "name": "ipython",
    "version": 3
   },
   "file_extension": ".py",
   "mimetype": "text/x-python",
   "name": "python",
   "nbconvert_exporter": "python",
   "pygments_lexer": "ipython3",
   "version": "3.8.10"
  }
 },
 "nbformat": 4,
 "nbformat_minor": 5
}
