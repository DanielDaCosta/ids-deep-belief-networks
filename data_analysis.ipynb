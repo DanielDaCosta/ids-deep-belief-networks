{
 "cells": [
  {
   "cell_type": "code",
   "execution_count": 1,
   "metadata": {},
   "outputs": [],
   "source": [
    "import pandas as pd\n",
    "from sklearn.preprocessing import LabelEncoder\n",
    "from sklearn.ensemble import RandomForestClassifier\n",
    "from sklearn.metrics import classification_report, accuracy_score\n",
    "from sklearn.metrics import roc_curve, auc\n",
    "from sklearn.multiclass import OneVsRestClassifier\n",
    "from sklearn.linear_model import LogisticRegression\n",
    "from sklearn.pipeline import Pipeline\n",
    "from sklearn.preprocessing import StandardScaler\n",
    "import matplotlib.pyplot as plt\n",
    "from sklearn.preprocessing import label_binarize\n",
    "import xgboost as xgb\n",
    "import seaborn as sns\n",
    "from sklearn.model_selection import cross_val_score\n",
    "import numpy as np\n",
    "from sklearn.model_selection import train_test_split\n",
    "pd.set_option('display.max_columns', None)\n",
    "import seaborn as sns\n",
    "from itertools import combinations\n",
    "from scipy.stats import ttest_ind"
   ]
  },
  {
   "cell_type": "markdown",
   "metadata": {},
   "source": [
    "# Read Datasets"
   ]
  },
  {
   "cell_type": "code",
   "execution_count": 2,
   "metadata": {},
   "outputs": [],
   "source": [
    "data = pd.read_csv('dataset/All_Flows.csv')"
   ]
  },
  {
   "cell_type": "code",
   "execution_count": 3,
   "metadata": {},
   "outputs": [
    {
     "data": {
      "text/plain": [
       "benign                     783574\n",
       "port_scan                  159614\n",
       "ddos                        45480\n",
       "dos_hulk                    14108\n",
       "dos_goldeneye                7574\n",
       "dos_slowhttptest             4217\n",
       "ftp_patator                  3993\n",
       "dos_slowloris                3895\n",
       "ssh_patator                  2979\n",
       "infiltration_dropbox_p2      2009\n",
       "webattack_bruteforce         1365\n",
       "botnet                       1226\n",
       "webattack_xss                 679\n",
       "webattack_sqli                 12\n",
       "infiltration_meta               4\n",
       "infiltration_dropbox_p1         1\n",
       "heartbleed                      1\n",
       "infiltration_cooldisk           1\n",
       "Name: label, dtype: int64"
      ]
     },
     "execution_count": 3,
     "metadata": {},
     "output_type": "execute_result"
    }
   ],
   "source": [
    "data['label'].value_counts()"
   ]
  },
  {
   "cell_type": "code",
   "execution_count": 4,
   "metadata": {},
   "outputs": [],
   "source": [
    "df = data.copy()"
   ]
  },
  {
   "cell_type": "markdown",
   "metadata": {},
   "source": [
    "- Grouping similar attacks"
   ]
  },
  {
   "cell_type": "code",
   "execution_count": 5,
   "metadata": {},
   "outputs": [],
   "source": [
    "def group_label(label: str):\n",
    "    if 'infiltration' in label:\n",
    "        return 'infiltration'\n",
    "    elif 'webattack' in label:\n",
    "        return 'web attack'\n",
    "    else:\n",
    "        return label\n",
    "    \n",
    "data['label'] = data['label'].apply(group_label)"
   ]
  },
  {
   "cell_type": "code",
   "execution_count": 6,
   "metadata": {},
   "outputs": [
    {
     "data": {
      "text/plain": [
       "benign              783574\n",
       "port_scan           159614\n",
       "ddos                 45480\n",
       "dos_hulk             14108\n",
       "dos_goldeneye         7574\n",
       "dos_slowhttptest      4217\n",
       "ftp_patator           3993\n",
       "dos_slowloris         3895\n",
       "ssh_patator           2979\n",
       "web attack            2056\n",
       "infiltration          2015\n",
       "botnet                1226\n",
       "heartbleed               1\n",
       "Name: label, dtype: int64"
      ]
     },
     "execution_count": 6,
     "metadata": {},
     "output_type": "execute_result"
    }
   ],
   "source": [
    "data['label'].value_counts()"
   ]
  },
  {
   "cell_type": "markdown",
   "metadata": {},
   "source": [
    "# Data Exploration"
   ]
  },
  {
   "cell_type": "code",
   "execution_count": 7,
   "metadata": {},
   "outputs": [],
   "source": [
    "# df = pd.concat([df_benign, df_botnet, df_portscan, df_ddos], axis=0)\n",
    "# Remove Empty FLOW IDS\n",
    "mask = ~df[['sport', 'src_ip', 'dst_port', 'dst_ip']].isnull().any(axis=1)\n",
    "\n",
    "# Apply the mask to filter rows\n",
    "df = df[mask]"
   ]
  },
  {
   "cell_type": "markdown",
   "metadata": {},
   "source": [
    "- Flow id needs to be unique? => Not necessarily, same machine can be used in different attacks"
   ]
  },
  {
   "cell_type": "code",
   "execution_count": 8,
   "metadata": {},
   "outputs": [],
   "source": [
    "# Create Flow ID Column\n",
    "df['sport'] = df['sport'].astype(int).astype(str)\n",
    "df['dst_port'] = df['dst_port'].astype(int).astype(str)\n",
    "df['flow_id'] = df['src_ip'] + '-' + df['dst_ip'] + '-' + df['sport'] + '-' + df['dst_port']"
   ]
  },
  {
   "cell_type": "code",
   "execution_count": 9,
   "metadata": {},
   "outputs": [],
   "source": [
    "# Count numple of flow ids duplicates\n",
    "df['count_flow_id'] = df.groupby(['flow_id', 'label']).transform('count')['sport']"
   ]
  },
  {
   "cell_type": "markdown",
   "metadata": {},
   "source": [
    "Checking if all the duplicates are from benign traffic or not"
   ]
  },
  {
   "cell_type": "code",
   "execution_count": 10,
   "metadata": {},
   "outputs": [
    {
     "data": {
      "text/plain": [
       "count_flow_id  label \n",
       "2              benign    54496\n",
       "3              benign    25121\n",
       "4              benign    12090\n",
       "5              benign     4160\n",
       "6              benign     1111\n",
       "14             benign      714\n",
       "13             benign      698\n",
       "15             benign      421\n",
       "12             benign      407\n",
       "7              benign      233\n",
       "11             benign      138\n",
       "16             benign      111\n",
       "10             benign       35\n",
       "17             benign       27\n",
       "8              benign       26\n",
       "9              benign       15\n",
       "dtype: int64"
      ]
     },
     "execution_count": 10,
     "metadata": {},
     "output_type": "execute_result"
    }
   ],
   "source": [
    "tmp = df[['flow_id', 'count_flow_id','label']].drop_duplicates().sort_values(by='count_flow_id', ascending=False)[['count_flow_id', 'label']]\n",
    "tmp[tmp['count_flow_id'] > 1].value_counts()"
   ]
  },
  {
   "cell_type": "markdown",
   "metadata": {},
   "source": [
    "- `flow_duration`"
   ]
  },
  {
   "cell_type": "code",
   "execution_count": 11,
   "metadata": {},
   "outputs": [
    {
     "data": {
      "text/plain": [
       "count    1.030732e+06\n",
       "mean     5.457184e+02\n",
       "std      2.682853e+03\n",
       "min      0.000000e+00\n",
       "25%      1.810000e-04\n",
       "50%      1.349955e-01\n",
       "75%      1.518431e+01\n",
       "max      2.904384e+04\n",
       "Name: flow_duration, dtype: float64"
      ]
     },
     "execution_count": 11,
     "metadata": {},
     "output_type": "execute_result"
    }
   ],
   "source": [
    "data['flow_duration'].describe()"
   ]
  },
  {
   "cell_type": "code",
   "execution_count": 12,
   "metadata": {},
   "outputs": [],
   "source": [
    "data_benign = data[data['label'] == 'benign'].copy()"
   ]
  },
  {
   "cell_type": "code",
   "execution_count": 13,
   "metadata": {},
   "outputs": [],
   "source": [
    "# # Calculate the 10th and 90th percentile values => For easy visualization\n",
    "# q10 = data_benign['flow_duration'].quantile(0.10)\n",
    "# q90 = data_benign['flow_duration'].quantile(0.90)\n",
    "\n",
    "# filtered_df = data_benign[(data_benign['flow_duration'] >= q10) & (df['flow_duration'] <= q90)].copy()"
   ]
  },
  {
   "cell_type": "code",
   "execution_count": 14,
   "metadata": {},
   "outputs": [],
   "source": [
    "# sns.boxplot(x='label', y='flow_duration', data=data_benign, showfliers=False, showmeans=False);"
   ]
  },
  {
   "cell_type": "markdown",
   "metadata": {},
   "source": [
    "Analyzing flow duration distribution across all attacks"
   ]
  },
  {
   "cell_type": "code",
   "execution_count": 15,
   "metadata": {},
   "outputs": [],
   "source": [
    "data['flow_duration_log'] = np.log10(data['flow_duration']+1)"
   ]
  },
  {
   "cell_type": "code",
   "execution_count": 16,
   "metadata": {},
   "outputs": [
    {
     "data": {
      "image/png": "[encoded data removed]",
      "text/plain": [
       "<Figure size 1440x720 with 1 Axes>"
      ]
     },
     "metadata": {
      "needs_background": "light"
     },
     "output_type": "display_data"
    }
   ],
   "source": [
    "plt.figure(figsize=(20, 10))\n",
    "\n",
    "# Use sns.boxplot with x as the category and y as the value\n",
    "sns.boxplot(y='label', x='flow_duration', data=data, showfliers=False, showmeans=True, meanprops={'marker':'o', 'markerfacecolor':'red', 'markeredgecolor':'red'})\n",
    "\n",
    "# Add gridlines\n",
    "plt.grid(axis='x', linestyle='--', alpha=0.5)  # Add vertical gridlines with dashed style and transparency\n",
    "\n",
    "# Add labels and title\n",
    "plt.xlabel('Flow Duration')\n",
    "plt.ylabel('Label')\n",
    "plt.title('Horizontal Box Plot of Flow Duration by Label (No Outliers)')\n",
    "\n",
    "plt.show()"
   ]
  },
  {
   "cell_type": "markdown",
   "metadata": {},
   "source": [
    "Analyzing flow duration distribution across attacks with small flow duration"
   ]
  },
  {
   "cell_type": "code",
   "execution_count": 17,
   "metadata": {},
   "outputs": [
    {
     "data": {
      "image/png": "[encoded data removed]",
      "text/plain": [
       "<Figure size 1440x432 with 1 Axes>"
      ]
     },
     "metadata": {
      "needs_background": "light"
     },
     "output_type": "display_data"
    }
   ],
   "source": [
    "plt.figure(figsize=(20, 6))\n",
    "\n",
    "# Use sns.boxplot with x as the category and y as the value\n",
    "sns.boxplot(y='label', x='flow_duration', data=data[data['label'].isin(['web attack', 'ssh_patator', 'ftp_patator', 'infiltration', 'port_scan'])],\n",
    "            showfliers=False, showmeans=True, meanprops={'marker':'o', 'markerfacecolor':'red', 'markeredgecolor':'red'})\n",
    "\n",
    "# Add gridlines\n",
    "plt.grid(axis='x', linestyle='--', alpha=0.5)  # Add vertical gridlines with dashed style and transparency\n",
    "\n",
    "# Add labels and title\n",
    "plt.xlabel('Flow Duration')\n",
    "plt.ylabel('Label')\n",
    "plt.title('Horizontal Box Plot of Flow Duration by: web attack, ssh_patator, ftp_patator, infiltration, port_scan (No Outliers)')\n",
    "\n",
    "plt.show()"
   ]
  },
  {
   "cell_type": "markdown",
   "metadata": {},
   "source": [
    "Log-Based"
   ]
  },
  {
   "cell_type": "code",
   "execution_count": 18,
   "metadata": {},
   "outputs": [
    {
     "data": {
      "image/png": "[encoded data removed]",
      "text/plain": [
       "<Figure size 1440x720 with 1 Axes>"
      ]
     },
     "metadata": {
      "needs_background": "light"
     },
     "output_type": "display_data"
    }
   ],
   "source": [
    "plt.figure(figsize=(20, 10))\n",
    "\n",
    "# Use sns.boxplot with x as the category and y as the value\n",
    "sns.boxplot(y='label', x='flow_duration_log', data=data, showfliers=False, showmeans=True, meanprops={'marker':'o', 'markerfacecolor':'red', 'markeredgecolor':'red'})\n",
    "\n",
    "# Add gridlines\n",
    "plt.grid(axis='x', linestyle='--', alpha=0.5)  # Add vertical gridlines with dashed style and transparency\n",
    "\n",
    "# Add labels and title\n",
    "plt.xlabel('Flow Duration (Log10)')\n",
    "plt.ylabel('Label')\n",
    "plt.title('Horizontal Box Plot of Flow Duration by Label (No Outliers)')\n",
    "\n",
    "plt.show()"
   ]
  },
  {
   "cell_type": "markdown",
   "metadata": {},
   "source": [
    "Perform T-tests for all Pairs of Labels"
   ]
  },
  {
   "cell_type": "code",
   "execution_count": 19,
   "metadata": {},
   "outputs": [],
   "source": [
    "labels = data['label'].unique()"
   ]
  },
  {
   "cell_type": "code",
   "execution_count": 20,
   "metadata": {},
   "outputs": [],
   "source": [
    "grouped = data.groupby('label')['flow_duration']\n",
    "results = []\n",
    "for label1, label2 in combinations(labels, 2):\n",
    "    group1 = grouped.get_group(label1)\n",
    "    group2 = grouped.get_group(label2)\n",
    "    t_stat, p_value = ttest_ind(group1, group2)\n",
    "    results.append((label1, label2, t_stat, p_value))\n",
    "# Convert results to DataFrame for easier analysis\n",
    "results_df = pd.DataFrame(results, columns=['Label 1', 'Label 2', 'T-statistic', 'P-value'])"
   ]
  },
  {
   "cell_type": "code",
   "execution_count": 21,
   "metadata": {},
   "outputs": [],
   "source": [
    "# Example: Bonferroni correction\n",
    "adjusted_alpha = 0.05 / len(results_df)  # Adjusted significance threshold\n",
    "\n",
    "# Filter significant results based on adjusted alpha\n",
    "significant_results = results_df[results_df['P-value'] < adjusted_alpha]\n",
    "non_significant_results = results_df[results_df['P-value'] >= adjusted_alpha]"
   ]
  },
  {
   "cell_type": "code",
   "execution_count": 22,
   "metadata": {},
   "outputs": [
    {
     "data": {
      "text/html": [
       "<div>\n",
       "<style scoped>\n",
       "    .dataframe tbody tr th:only-of-type {\n",
       "        vertical-align: middle;\n",
       "    }\n",
       "\n",
       "    .dataframe tbody tr th {\n",
       "        vertical-align: top;\n",
       "    }\n",
       "\n",
       "    .dataframe thead th {\n",
       "        text-align: right;\n",
       "    }\n",
       "</style>\n",
       "<table border=\"1\" class=\"dataframe\">\n",
       "  <thead>\n",
       "    <tr style=\"text-align: right;\">\n",
       "      <th></th>\n",
       "      <th>Label 1</th>\n",
       "      <th>Label 2</th>\n",
       "      <th>T-statistic</th>\n",
       "      <th>P-value</th>\n",
       "    </tr>\n",
       "  </thead>\n",
       "  <tbody>\n",
       "    <tr>\n",
       "      <th>7</th>\n",
       "      <td>benign</td>\n",
       "      <td>heartbleed</td>\n",
       "      <td>-0.177946</td>\n",
       "      <td>0.858765</td>\n",
       "    </tr>\n",
       "    <tr>\n",
       "      <th>19</th>\n",
       "      <td>botnet</td>\n",
       "      <td>infiltration</td>\n",
       "      <td>-0.759359</td>\n",
       "      <td>0.447693</td>\n",
       "    </tr>\n",
       "    <tr>\n",
       "      <th>20</th>\n",
       "      <td>botnet</td>\n",
       "      <td>port_scan</td>\n",
       "      <td>-0.073260</td>\n",
       "      <td>0.941600</td>\n",
       "    </tr>\n",
       "    <tr>\n",
       "      <th>28</th>\n",
       "      <td>ddos</td>\n",
       "      <td>heartbleed</td>\n",
       "      <td>-2.711920</td>\n",
       "      <td>0.006692</td>\n",
       "    </tr>\n",
       "    <tr>\n",
       "      <th>50</th>\n",
       "      <td>dos_slowhttptest</td>\n",
       "      <td>dos_slowloris</td>\n",
       "      <td>-3.367043</td>\n",
       "      <td>0.000763</td>\n",
       "    </tr>\n",
       "    <tr>\n",
       "      <th>67</th>\n",
       "      <td>ftp_patator</td>\n",
       "      <td>web attack</td>\n",
       "      <td>0.759156</td>\n",
       "      <td>0.447789</td>\n",
       "    </tr>\n",
       "    <tr>\n",
       "      <th>72</th>\n",
       "      <td>infiltration</td>\n",
       "      <td>port_scan</td>\n",
       "      <td>2.553605</td>\n",
       "      <td>0.010662</td>\n",
       "    </tr>\n",
       "    <tr>\n",
       "      <th>77</th>\n",
       "      <td>ssh_patator</td>\n",
       "      <td>web attack</td>\n",
       "      <td>2.586767</td>\n",
       "      <td>0.009716</td>\n",
       "    </tr>\n",
       "  </tbody>\n",
       "</table>\n",
       "</div>"
      ],
      "text/plain": [
       "             Label 1        Label 2  T-statistic   P-value\n",
       "7             benign     heartbleed    -0.177946  0.858765\n",
       "19            botnet   infiltration    -0.759359  0.447693\n",
       "20            botnet      port_scan    -0.073260  0.941600\n",
       "28              ddos     heartbleed    -2.711920  0.006692\n",
       "50  dos_slowhttptest  dos_slowloris    -3.367043  0.000763\n",
       "67       ftp_patator     web attack     0.759156  0.447789\n",
       "72      infiltration      port_scan     2.553605  0.010662\n",
       "77       ssh_patator     web attack     2.586767  0.009716"
      ]
     },
     "execution_count": 22,
     "metadata": {},
     "output_type": "execute_result"
    }
   ],
   "source": [
    "non_significant_results"
   ]
  },
  {
   "cell_type": "markdown",
   "metadata": {},
   "source": [
    "=> **Conclusion**: The statistical analysis using a t-test indicates that there is a significant difference in the distribution of flow durations between different attacks. This finding suggests that flow duration can serve as a meaningful indicator or predictor of attack events.\n",
    "\n",
    "In the above table we can observe some exceptions: (dos_slowhttptest, dos_slowloris), (ssh_patator, web attack)"
   ]
  },
  {
   "cell_type": "markdown",
   "metadata": {},
   "source": [
    "`total_packets`"
   ]
  },
  {
   "cell_type": "code",
   "execution_count": 23,
   "metadata": {},
   "outputs": [],
   "source": [
    "data['total_packets'] = data['total_fwd_packets'] + data['total_bwd_packets']\n",
    "data['total_packets_log'] = np.log10(data['total_packets']+1)"
   ]
  },
  {
   "cell_type": "code",
   "execution_count": 24,
   "metadata": {},
   "outputs": [
    {
     "data": {
      "text/plain": [
       "count    1.030732e+06\n",
       "mean     4.019371e+01\n",
       "std      5.651728e+03\n",
       "min      1.000000e+00\n",
       "25%      2.000000e+00\n",
       "50%      4.000000e+00\n",
       "75%      1.900000e+01\n",
       "max      2.458132e+06\n",
       "Name: total_packets, dtype: float64"
      ]
     },
     "execution_count": 24,
     "metadata": {},
     "output_type": "execute_result"
    }
   ],
   "source": [
    "data['total_packets'].describe()"
   ]
  },
  {
   "cell_type": "markdown",
   "metadata": {},
   "source": [
    "Analyzing total_packets distribution. Removing Heartbleed from analyzsis (only one sample)"
   ]
  },
  {
   "cell_type": "code",
   "execution_count": 25,
   "metadata": {},
   "outputs": [
    {
     "data": {
      "text/plain": [
       "['web attack',\n",
       " 'infiltration',\n",
       " 'botnet',\n",
       " 'benign',\n",
       " 'ssh_patator',\n",
       " 'dos_slowloris',\n",
       " 'dos_slowhttptest',\n",
       " 'ftp_patator',\n",
       " 'heartbleed',\n",
       " 'dos_goldeneye',\n",
       " 'port_scan',\n",
       " 'dos_hulk',\n",
       " 'ddos']"
      ]
     },
     "execution_count": 25,
     "metadata": {},
     "output_type": "execute_result"
    }
   ],
   "source": [
    "list(set(data['label']))"
   ]
  },
  {
   "cell_type": "code",
   "execution_count": 26,
   "metadata": {},
   "outputs": [
    {
     "data": {
      "image/png": "[encoded data removed]",
      "text/plain": [
       "<Figure size 1440x720 with 1 Axes>"
      ]
     },
     "metadata": {
      "needs_background": "light"
     },
     "output_type": "display_data"
    }
   ],
   "source": [
    "col_analysis = ['dos_goldeneye', 'port_scan', 'botnet', 'ssh_patator', 'benign', 'dos_slowloris', 'ftp_patator', 'ddos', 'web attack',\n",
    "          'dos_slowhttptest', 'infiltration', 'dos_hulk']\n",
    "plt.figure(figsize=(20, 10))\n",
    "\n",
    "# Use sns.boxplot with x as the category and y as the value\n",
    "sns.boxplot(y='label', x='total_packets', data=data[data['label'].isin(col_analysis)], showfliers=False, showmeans=True, meanprops={'marker':'o', 'markerfacecolor':'red', 'markeredgecolor':'red'})\n",
    "\n",
    "# Add gridlines\n",
    "plt.grid(axis='x', linestyle='--', alpha=0.5)  # Add vertical gridlines with dashed style and transparency\n",
    "\n",
    "# Add labels and title\n",
    "plt.xlabel('Flow Duration')\n",
    "plt.ylabel('Label')\n",
    "plt.title('Horizontal Box Plot of Flow Duration by Label (No Outliers)')\n",
    "\n",
    "plt.show()"
   ]
  },
  {
   "cell_type": "code",
   "execution_count": 27,
   "metadata": {},
   "outputs": [
    {
     "data": {
      "image/png": "[encoded data removed]",
      "text/plain": [
       "<Figure size 1440x720 with 1 Axes>"
      ]
     },
     "metadata": {
      "needs_background": "light"
     },
     "output_type": "display_data"
    }
   ],
   "source": [
    "plt.figure(figsize=(20, 10))\n",
    "\n",
    "# Use sns.boxplot with x as the category and y as the value\n",
    "sns.boxplot(y='label', x='total_packets_log', data=data[data['label'].isin(col_analysis)], showfliers=False, showmeans=True, meanprops={'marker':'o', 'markerfacecolor':'red', 'markeredgecolor':'red'})\n",
    "\n",
    "# Add gridlines\n",
    "plt.grid(axis='x', linestyle='--', alpha=0.5)  # Add vertical gridlines with dashed style and transparency\n",
    "\n",
    "# Add labels and title\n",
    "plt.xlabel('Flow Duration (Log10)')\n",
    "plt.ylabel('Label')\n",
    "plt.title('Horizontal Box Plot of Flow Duration by Label (No Outliers)')\n",
    "\n",
    "plt.show()"
   ]
  },
  {
   "cell_type": "markdown",
   "metadata": {},
   "source": [
    "Perform T-tests for all Pairs of Labels"
   ]
  },
  {
   "cell_type": "code",
   "execution_count": 28,
   "metadata": {},
   "outputs": [],
   "source": [
    "labels = data['label'].unique()"
   ]
  },
  {
   "cell_type": "code",
   "execution_count": 29,
   "metadata": {},
   "outputs": [],
   "source": [
    "grouped = data.groupby('label')['total_packets']\n",
    "results = []\n",
    "for label1, label2 in combinations(labels, 2):\n",
    "    group1 = grouped.get_group(label1)\n",
    "    group2 = grouped.get_group(label2)\n",
    "    t_stat, p_value = ttest_ind(group1, group2)\n",
    "    results.append((label1, label2, t_stat, p_value))\n",
    "# Convert results to DataFrame for easier analysis\n",
    "results_df = pd.DataFrame(results, columns=['Label 1', 'Label 2', 'T-statistic', 'P-value'])"
   ]
  },
  {
   "cell_type": "code",
   "execution_count": 51,
   "metadata": {},
   "outputs": [],
   "source": [
    "# Example: Bonferroni correction\n",
    "adjusted_alpha = 0.05 / len(results_df)  # Adjusted significance threshold\n",
    "\n",
    "# Filter significant results based on adjusted alpha\n",
    "significant_results = results_df[results_df['P-value'] < adjusted_alpha]\n",
    "non_significant_results = results_df[results_df['P-value'] >= adjusted_alpha]"
   ]
  },
  {
   "cell_type": "code",
   "execution_count": 31,
   "metadata": {},
   "outputs": [
    {
     "data": {
      "text/html": [
       "<div>\n",
       "<style scoped>\n",
       "    .dataframe tbody tr th:only-of-type {\n",
       "        vertical-align: middle;\n",
       "    }\n",
       "\n",
       "    .dataframe tbody tr th {\n",
       "        vertical-align: top;\n",
       "    }\n",
       "\n",
       "    .dataframe thead th {\n",
       "        text-align: right;\n",
       "    }\n",
       "</style>\n",
       "<table border=\"1\" class=\"dataframe\">\n",
       "  <thead>\n",
       "    <tr style=\"text-align: right;\">\n",
       "      <th></th>\n",
       "      <th>Label 1</th>\n",
       "      <th>Label 2</th>\n",
       "      <th>T-statistic</th>\n",
       "      <th>P-value</th>\n",
       "    </tr>\n",
       "  </thead>\n",
       "  <tbody>\n",
       "    <tr>\n",
       "      <th>0</th>\n",
       "      <td>benign</td>\n",
       "      <td>botnet</td>\n",
       "      <td>0.198462</td>\n",
       "      <td>0.842683</td>\n",
       "    </tr>\n",
       "    <tr>\n",
       "      <th>1</th>\n",
       "      <td>benign</td>\n",
       "      <td>ddos</td>\n",
       "      <td>0.626145</td>\n",
       "      <td>0.531220</td>\n",
       "    </tr>\n",
       "    <tr>\n",
       "      <th>2</th>\n",
       "      <td>benign</td>\n",
       "      <td>dos_goldeneye</td>\n",
       "      <td>0.445360</td>\n",
       "      <td>0.656060</td>\n",
       "    </tr>\n",
       "    <tr>\n",
       "      <th>3</th>\n",
       "      <td>benign</td>\n",
       "      <td>dos_hulk</td>\n",
       "      <td>-2.054056</td>\n",
       "      <td>0.039971</td>\n",
       "    </tr>\n",
       "    <tr>\n",
       "      <th>4</th>\n",
       "      <td>benign</td>\n",
       "      <td>dos_slowhttptest</td>\n",
       "      <td>0.378528</td>\n",
       "      <td>0.705039</td>\n",
       "    </tr>\n",
       "    <tr>\n",
       "      <th>5</th>\n",
       "      <td>benign</td>\n",
       "      <td>dos_slowloris</td>\n",
       "      <td>0.336694</td>\n",
       "      <td>0.736348</td>\n",
       "    </tr>\n",
       "    <tr>\n",
       "      <th>6</th>\n",
       "      <td>benign</td>\n",
       "      <td>ftp_patator</td>\n",
       "      <td>0.187519</td>\n",
       "      <td>0.851253</td>\n",
       "    </tr>\n",
       "    <tr>\n",
       "      <th>8</th>\n",
       "      <td>benign</td>\n",
       "      <td>infiltration</td>\n",
       "      <td>0.214722</td>\n",
       "      <td>0.829984</td>\n",
       "    </tr>\n",
       "    <tr>\n",
       "      <th>9</th>\n",
       "      <td>benign</td>\n",
       "      <td>port_scan</td>\n",
       "      <td>2.783984</td>\n",
       "      <td>0.005370</td>\n",
       "    </tr>\n",
       "    <tr>\n",
       "      <th>10</th>\n",
       "      <td>benign</td>\n",
       "      <td>ssh_patator</td>\n",
       "      <td>-0.064295</td>\n",
       "      <td>0.948735</td>\n",
       "    </tr>\n",
       "    <tr>\n",
       "      <th>11</th>\n",
       "      <td>benign</td>\n",
       "      <td>web attack</td>\n",
       "      <td>0.193901</td>\n",
       "      <td>0.846253</td>\n",
       "    </tr>\n",
       "    <tr>\n",
       "      <th>19</th>\n",
       "      <td>botnet</td>\n",
       "      <td>infiltration</td>\n",
       "      <td>-0.498232</td>\n",
       "      <td>0.618354</td>\n",
       "    </tr>\n",
       "    <tr>\n",
       "      <th>27</th>\n",
       "      <td>ddos</td>\n",
       "      <td>ftp_patator</td>\n",
       "      <td>0.631841</td>\n",
       "      <td>0.527494</td>\n",
       "    </tr>\n",
       "    <tr>\n",
       "      <th>38</th>\n",
       "      <td>dos_goldeneye</td>\n",
       "      <td>infiltration</td>\n",
       "      <td>-0.467706</td>\n",
       "      <td>0.640005</td>\n",
       "    </tr>\n",
       "    <tr>\n",
       "      <th>53</th>\n",
       "      <td>dos_slowhttptest</td>\n",
       "      <td>infiltration</td>\n",
       "      <td>-1.092654</td>\n",
       "      <td>0.274588</td>\n",
       "    </tr>\n",
       "    <tr>\n",
       "      <th>59</th>\n",
       "      <td>dos_slowloris</td>\n",
       "      <td>infiltration</td>\n",
       "      <td>-0.613837</td>\n",
       "      <td>0.539347</td>\n",
       "    </tr>\n",
       "    <tr>\n",
       "      <th>64</th>\n",
       "      <td>ftp_patator</td>\n",
       "      <td>infiltration</td>\n",
       "      <td>1.846767</td>\n",
       "      <td>0.064830</td>\n",
       "    </tr>\n",
       "    <tr>\n",
       "      <th>74</th>\n",
       "      <td>infiltration</td>\n",
       "      <td>web attack</td>\n",
       "      <td>-0.365726</td>\n",
       "      <td>0.714589</td>\n",
       "    </tr>\n",
       "  </tbody>\n",
       "</table>\n",
       "</div>"
      ],
      "text/plain": [
       "             Label 1           Label 2  T-statistic   P-value\n",
       "0             benign            botnet     0.198462  0.842683\n",
       "1             benign              ddos     0.626145  0.531220\n",
       "2             benign     dos_goldeneye     0.445360  0.656060\n",
       "3             benign          dos_hulk    -2.054056  0.039971\n",
       "4             benign  dos_slowhttptest     0.378528  0.705039\n",
       "5             benign     dos_slowloris     0.336694  0.736348\n",
       "6             benign       ftp_patator     0.187519  0.851253\n",
       "8             benign      infiltration     0.214722  0.829984\n",
       "9             benign         port_scan     2.783984  0.005370\n",
       "10            benign       ssh_patator    -0.064295  0.948735\n",
       "11            benign        web attack     0.193901  0.846253\n",
       "19            botnet      infiltration    -0.498232  0.618354\n",
       "27              ddos       ftp_patator     0.631841  0.527494\n",
       "38     dos_goldeneye      infiltration    -0.467706  0.640005\n",
       "53  dos_slowhttptest      infiltration    -1.092654  0.274588\n",
       "59     dos_slowloris      infiltration    -0.613837  0.539347\n",
       "64       ftp_patator      infiltration     1.846767  0.064830\n",
       "74      infiltration        web attack    -0.365726  0.714589"
      ]
     },
     "execution_count": 31,
     "metadata": {},
     "output_type": "execute_result"
    }
   ],
   "source": [
    "non_significant_results"
   ]
  },
  {
   "cell_type": "markdown",
   "metadata": {},
   "source": [
    "=> **Conclusion**: \n",
    "- Benign Traffic vs. Attacks:\n",
    "\n",
    "The distribution of 'total_packets' does not exhibit statistically significant differences between benign traffic and the aggregate of all attack types. This suggests that 'total_packets' alone may not reliably differentiate benign traffic from attacks.\n",
    "- Differentiation Among Attack Types:\n",
    "\n",
    "However, 'total_packets' demonstrates statistically significant differences among specific attack types, including DDoS, dos_goldeneye, dos_hulk, dos_slowhttptest, and dos_slowloris. Therefore, 'total_packets' serves as a useful feature for distinguishing between these specific types of attacks."
   ]
  },
  {
   "cell_type": "markdown",
   "metadata": {},
   "source": [
    "- `inter_arrival_mean`"
   ]
  },
  {
   "cell_type": "code",
   "execution_count": 35,
   "metadata": {},
   "outputs": [
    {
     "data": {
      "text/plain": [
       "count    1.025168e+06\n",
       "mean     1.005036e+02\n",
       "std      5.912327e+02\n",
       "min     -1.300000e-05\n",
       "25%      1.830000e-04\n",
       "50%      3.987454e-02\n",
       "75%      1.089997e+00\n",
       "max      9.537357e+03\n",
       "Name: inter_arrival_mean, dtype: float64"
      ]
     },
     "execution_count": 35,
     "metadata": {},
     "output_type": "execute_result"
    }
   ],
   "source": [
    "data['inter_arrival_mean'].describe()"
   ]
  },
  {
   "cell_type": "code",
   "execution_count": 47,
   "metadata": {},
   "outputs": [
    {
     "data": {
      "image/png": "[encoded data removed]",
      "text/plain": [
       "<Figure size 1440x720 with 1 Axes>"
      ]
     },
     "metadata": {
      "needs_background": "light"
     },
     "output_type": "display_data"
    }
   ],
   "source": [
    "col_analysis = ['benign', 'ddos','dos_slowloris','dos_slowhttptest', 'dos_hulk', 'dos_goldeneye', 'infiltration']\n",
    "plt.figure(figsize=(20, 10))\n",
    "\n",
    "# Use sns.boxplot with x as the category and y as the value\n",
    "sns.boxplot(y='label', x='inter_arrival_mean', data=data[data['label'].isin(col_analysis)], showfliers=False, showmeans=True, meanprops={'marker':'o', 'markerfacecolor':'red', 'markeredgecolor':'red'})\n",
    "\n",
    "# Add gridlines\n",
    "plt.grid(axis='x', linestyle='--', alpha=0.5)  # Add vertical gridlines with dashed style and transparency\n",
    "\n",
    "# Add labels and title\n",
    "plt.xlabel('Flow Duration')\n",
    "plt.ylabel('Label')\n",
    "plt.title('Horizontal Box Plot of Flow Duration by Label (No Outliers)')\n",
    "\n",
    "plt.show()"
   ]
  },
  {
   "cell_type": "code",
   "execution_count": 46,
   "metadata": {},
   "outputs": [
    {
     "data": {
      "image/png": "[encoded data removed]",
      "text/plain": [
       "<Figure size 1440x720 with 1 Axes>"
      ]
     },
     "metadata": {
      "needs_background": "light"
     },
     "output_type": "display_data"
    }
   ],
   "source": [
    "col_analysis = col_analysis = ['web attack', 'ssh_patator', 'port_scan', 'heartbleed', 'ftp_patator', 'botnet']\n",
    "plt.figure(figsize=(20, 10))\n",
    "\n",
    "# Use sns.boxplot with x as the category and y as the value\n",
    "sns.boxplot(y='label', x='inter_arrival_mean', data=data[data['label'].isin(col_analysis)], showfliers=False, showmeans=True, meanprops={'marker':'o', 'markerfacecolor':'red', 'markeredgecolor':'red'})\n",
    "\n",
    "# Add gridlines\n",
    "plt.grid(axis='x', linestyle='--', alpha=0.5)  # Add vertical gridlines with dashed style and transparency\n",
    "\n",
    "# Add labels and title\n",
    "plt.xlabel('Flow Duration')\n",
    "plt.ylabel('Label')\n",
    "plt.title('Horizontal Box Plot of Flow Duration by Label (No Outliers)')\n",
    "\n",
    "plt.show()"
   ]
  },
  {
   "cell_type": "markdown",
   "metadata": {},
   "source": [
    "Perform T-tests for all Pairs of Labels"
   ]
  },
  {
   "cell_type": "code",
   "execution_count": 52,
   "metadata": {},
   "outputs": [],
   "source": [
    "labels = data['label'].unique()"
   ]
  },
  {
   "cell_type": "code",
   "execution_count": 53,
   "metadata": {},
   "outputs": [],
   "source": [
    "grouped = data.groupby('label')['inter_arrival_mean']\n",
    "results = []\n",
    "for label1, label2 in combinations(labels, 2):\n",
    "    group1 = grouped.get_group(label1)\n",
    "    group2 = grouped.get_group(label2)\n",
    "    t_stat, p_value = ttest_ind(group1, group2)\n",
    "    results.append((label1, label2, t_stat, p_value))\n",
    "# Convert results to DataFrame for easier analysis\n",
    "results_df = pd.DataFrame(results, columns=['Label 1', 'Label 2', 'T-statistic', 'P-value'])"
   ]
  },
  {
   "cell_type": "code",
   "execution_count": 54,
   "metadata": {},
   "outputs": [],
   "source": [
    "# Example: Bonferroni correction\n",
    "adjusted_alpha = 0.05 / len(results_df)  # Adjusted significance threshold\n",
    "\n",
    "# Filter significant results based on adjusted alpha\n",
    "significant_results = results_df[results_df['P-value'] < adjusted_alpha]\n",
    "non_significant_results = results_df[results_df['P-value'] >= adjusted_alpha]"
   ]
  },
  {
   "cell_type": "code",
   "execution_count": 55,
   "metadata": {},
   "outputs": [
    {
     "data": {
      "text/html": [
       "<div>\n",
       "<style scoped>\n",
       "    .dataframe tbody tr th:only-of-type {\n",
       "        vertical-align: middle;\n",
       "    }\n",
       "\n",
       "    .dataframe tbody tr th {\n",
       "        vertical-align: top;\n",
       "    }\n",
       "\n",
       "    .dataframe thead th {\n",
       "        text-align: right;\n",
       "    }\n",
       "</style>\n",
       "<table border=\"1\" class=\"dataframe\">\n",
       "  <thead>\n",
       "    <tr style=\"text-align: right;\">\n",
       "      <th></th>\n",
       "      <th>Label 1</th>\n",
       "      <th>Label 2</th>\n",
       "      <th>T-statistic</th>\n",
       "      <th>P-value</th>\n",
       "    </tr>\n",
       "  </thead>\n",
       "  <tbody>\n",
       "    <tr>\n",
       "      <th>18</th>\n",
       "      <td>botnet</td>\n",
       "      <td>heartbleed</td>\n",
       "      <td>0.665862</td>\n",
       "      <td>0.505625</td>\n",
       "    </tr>\n",
       "    <tr>\n",
       "      <th>28</th>\n",
       "      <td>ddos</td>\n",
       "      <td>heartbleed</td>\n",
       "      <td>0.816957</td>\n",
       "      <td>0.413957</td>\n",
       "    </tr>\n",
       "    <tr>\n",
       "      <th>37</th>\n",
       "      <td>dos_goldeneye</td>\n",
       "      <td>heartbleed</td>\n",
       "      <td>0.931356</td>\n",
       "      <td>0.351699</td>\n",
       "    </tr>\n",
       "    <tr>\n",
       "      <th>52</th>\n",
       "      <td>dos_slowhttptest</td>\n",
       "      <td>heartbleed</td>\n",
       "      <td>1.069153</td>\n",
       "      <td>0.285062</td>\n",
       "    </tr>\n",
       "    <tr>\n",
       "      <th>63</th>\n",
       "      <td>ftp_patator</td>\n",
       "      <td>heartbleed</td>\n",
       "      <td>0.354910</td>\n",
       "      <td>0.722675</td>\n",
       "    </tr>\n",
       "    <tr>\n",
       "      <th>70</th>\n",
       "      <td>heartbleed</td>\n",
       "      <td>ssh_patator</td>\n",
       "      <td>-0.174296</td>\n",
       "      <td>0.861644</td>\n",
       "    </tr>\n",
       "    <tr>\n",
       "      <th>71</th>\n",
       "      <td>heartbleed</td>\n",
       "      <td>web attack</td>\n",
       "      <td>-0.269398</td>\n",
       "      <td>0.787651</td>\n",
       "    </tr>\n",
       "  </tbody>\n",
       "</table>\n",
       "</div>"
      ],
      "text/plain": [
       "             Label 1      Label 2  T-statistic   P-value\n",
       "18            botnet   heartbleed     0.665862  0.505625\n",
       "28              ddos   heartbleed     0.816957  0.413957\n",
       "37     dos_goldeneye   heartbleed     0.931356  0.351699\n",
       "52  dos_slowhttptest   heartbleed     1.069153  0.285062\n",
       "63       ftp_patator   heartbleed     0.354910  0.722675\n",
       "70        heartbleed  ssh_patator    -0.174296  0.861644\n",
       "71        heartbleed   web attack    -0.269398  0.787651"
      ]
     },
     "execution_count": 55,
     "metadata": {},
     "output_type": "execute_result"
    }
   ],
   "source": [
    "non_significant_results"
   ]
  },
  {
   "cell_type": "markdown",
   "metadata": {},
   "source": [
    "=> **Conclusion**: \n",
    "\n",
    "\n",
    "- Differentiation Between Attacks and Non-Attacks:\n",
    "\n",
    "Inter-arrival time demonstrates statistically significant differences between attacks and non-attacks. This suggests that inter-arrival time is a valuable indicator for distinguishing malicious traffic from benign traffic.\n",
    "\n",
    "- Differentiation Among Attack Types:\n",
    "\n",
    "Inter-arrival time also shows statistically significant differences among most attack types. However, the result is not statistically significant for the 'heartbleed' attack. This exception is disregarded due to the limited sample size (only 1 sample for 'heartbleed').\n"
   ]
  },
  {
   "cell_type": "markdown",
   "metadata": {},
   "source": [
    " # STOP HERE FOR NOW"
   ]
  },
  {
   "cell_type": "code",
   "execution_count": null,
   "metadata": {},
   "outputs": [],
   "source": []
  },
  {
   "cell_type": "code",
   "execution_count": 73,
   "metadata": {},
   "outputs": [],
   "source": [
    "data['total_packets'] = data['total_bwd_packets'] + data['total_fwd_packets']"
   ]
  },
  {
   "cell_type": "code",
   "execution_count": 55,
   "metadata": {},
   "outputs": [
    {
     "data": {
      "image/png": "[encoded data removed]",
      "text/plain": [
       "<Figure size 2160x432 with 1 Axes>"
      ]
     },
     "metadata": {
      "needs_background": "light"
     },
     "output_type": "display_data"
    }
   ],
   "source": [
    "plt.figure(figsize=(30, 6))\n",
    "sns.boxplot(x='label', y='total_packets', data=data, showfliers=False)\n",
    "plt.title('Box Plot of flow_duration by label')\n",
    "plt.xlabel('Label')\n",
    "plt.ylabel('total_packets')\n",
    "plt.show()"
   ]
  },
  {
   "cell_type": "markdown",
   "metadata": {},
   "source": [
    "Box plots analysis"
   ]
  },
  {
   "cell_type": "code",
   "execution_count": null,
   "metadata": {},
   "outputs": [
    {
     "data": {
      "image/png": "[encoded data removed]",
      "text/plain": [
       "<Figure size 2160x432 with 1 Axes>"
      ]
     },
     "metadata": {},
     "output_type": "display_data"
    }
   ],
   "source": [
    "plt.figure(figsize=(30, 6))\n",
    "sns.boxplot(x='label', y='flow_duration', data=df, showfliers=False)\n",
    "plt.title('Box Plot of flow_duration by label')\n",
    "plt.xlabel('Label')\n",
    "plt.ylabel('fin_flag_count')\n",
    "plt.show()"
   ]
  },
  {
   "cell_type": "code",
   "execution_count": null,
   "metadata": {},
   "outputs": [
    {
     "data": {
      "image/png": "[encoded data removed]",
      "text/plain": [
       "<Figure size 2160x432 with 1 Axes>"
      ]
     },
     "metadata": {},
     "output_type": "display_data"
    }
   ],
   "source": [
    "plt.figure(figsize=(30, 6))\n",
    "sns.boxplot(x='label', y='total_size', data=df, showfliers=False)\n",
    "plt.title('Box Plot of total_size by label')\n",
    "plt.xlabel('Label')\n",
    "plt.ylabel('rst_flag_count')\n",
    "plt.show()"
   ]
  },
  {
   "cell_type": "markdown",
   "metadata": {},
   "source": [
    "- Handling NaNs"
   ]
  },
  {
   "cell_type": "code",
   "execution_count": 10,
   "metadata": {},
   "outputs": [
    {
     "data": {
      "text/plain": [
       "sport                      0.000000\n",
       "src_ip                     0.000000\n",
       "dst_port                   0.000000\n",
       "dst_ip                     0.000000\n",
       "protocol                   0.000000\n",
       "first_timestamp            0.000000\n",
       "last_timestamp             0.000000\n",
       "flow_duration              0.000000\n",
       "total_size                 0.000000\n",
       "avg_size                   0.000000\n",
       "std_size                   0.000000\n",
       "inter_arrival_mean         0.538682\n",
       "inter_arrival_std          0.538682\n",
       "total_fwd_packets          0.000000\n",
       "first_timestamp_fwd        0.000000\n",
       "last_timestamp_fwd         0.000000\n",
       "fwd_flow_duration          0.000000\n",
       "total_fwd_pkt_size         0.000000\n",
       "avg_fwd_pkt_size           0.000000\n",
       "std_fwd_pkt_size           0.000000\n",
       "inter_arrival_mean_fwd    46.822967\n",
       "inter_arrival_std_fwd     46.822967\n",
       "total_bwd_packets          0.000000\n",
       "first_timestamp_bwd        1.211550\n",
       "last_timestamp_bwd         1.211550\n",
       "bwd_flow_duration          1.211550\n",
       "total_bwd_pkt_size         0.000000\n",
       "avg_bwd_pkt_size           1.211550\n",
       "std_bwd_pkt_size           1.211550\n",
       "inter_arrival_mean_bwd    49.788728\n",
       "inter_arrival_std_bwd     49.788728\n",
       "syn_flag_count             0.000000\n",
       "fin_flag_count             0.000000\n",
       "rst_flag_count             0.000000\n",
       "psh_flag_count             0.000000\n",
       "ack_flag_count             0.000000\n",
       "urg_flag_count             0.000000\n",
       "cwr_flag_count             0.000000\n",
       "ece_flag_count             0.000000\n",
       "label                      0.000000\n",
       "flow_id                    0.000000\n",
       "count_flow_id              0.000000\n",
       "dtype: float64"
      ]
     },
     "execution_count": 10,
     "metadata": {},
     "output_type": "execute_result"
    }
   ],
   "source": [
    "df.isnull().sum()*100/df.shape[0]"
   ]
  },
  {
   "cell_type": "code",
   "execution_count": 11,
   "metadata": {},
   "outputs": [
    {
     "data": {
      "text/plain": [
       "sport                      0.000000\n",
       "src_ip                     0.000000\n",
       "dst_port                   0.000000\n",
       "dst_ip                     0.000000\n",
       "protocol                   0.000000\n",
       "first_timestamp            0.000000\n",
       "last_timestamp             0.000000\n",
       "flow_duration              0.000000\n",
       "total_size                 0.000000\n",
       "avg_size                   0.000000\n",
       "std_size                   0.000000\n",
       "inter_arrival_mean         0.428842\n",
       "inter_arrival_std          0.428842\n",
       "total_fwd_packets          0.000000\n",
       "first_timestamp_fwd        0.000000\n",
       "last_timestamp_fwd         0.000000\n",
       "fwd_flow_duration          0.000000\n",
       "total_fwd_pkt_size         0.000000\n",
       "avg_fwd_pkt_size           0.000000\n",
       "std_fwd_pkt_size           0.000000\n",
       "inter_arrival_mean_fwd    41.128977\n",
       "inter_arrival_std_fwd     41.128977\n",
       "total_bwd_packets          0.000000\n",
       "first_timestamp_bwd        0.747537\n",
       "last_timestamp_bwd         0.747537\n",
       "bwd_flow_duration          0.747537\n",
       "total_bwd_pkt_size         0.000000\n",
       "avg_bwd_pkt_size           0.747537\n",
       "std_bwd_pkt_size           0.747537\n",
       "inter_arrival_mean_bwd    44.364434\n",
       "inter_arrival_std_bwd     44.364434\n",
       "syn_flag_count             0.000000\n",
       "fin_flag_count             0.000000\n",
       "rst_flag_count             0.000000\n",
       "psh_flag_count             0.000000\n",
       "ack_flag_count             0.000000\n",
       "urg_flag_count             0.000000\n",
       "cwr_flag_count             0.000000\n",
       "ece_flag_count             0.000000\n",
       "label                      0.000000\n",
       "flow_id                    0.000000\n",
       "count_flow_id              0.000000\n",
       "dtype: float64"
      ]
     },
     "execution_count": 11,
     "metadata": {},
     "output_type": "execute_result"
    }
   ],
   "source": [
    "df_benign = df[df['label'] == 'benign'].copy()\n",
    "df_benign.isnull().sum()*100/df_benign.shape[0]"
   ]
  },
  {
   "cell_type": "code",
   "execution_count": null,
   "metadata": {},
   "outputs": [],
   "source": []
  },
  {
   "cell_type": "code",
   "execution_count": 190,
   "metadata": {},
   "outputs": [],
   "source": [
    "# # Get only the numeric columns\n",
    "# numeric_cols = df.select_dtypes(include=['number'])\n",
    "\n",
    "# # Fill NaN values with the mean of each numeric column\n",
    "# df[numeric_cols.columns] = numeric_cols.fillna(numeric_cols.mean())"
   ]
  },
  {
   "cell_type": "markdown",
   "metadata": {},
   "source": [
    "- Convert datetime features -> get the Unix timestamp."
   ]
  },
  {
   "cell_type": "code",
   "execution_count": 12,
   "metadata": {},
   "outputs": [
    {
     "data": {
      "text/plain": [
       "55:28.8    1087\n",
       "55:56.4    1062\n",
       "55:14.3    1050\n",
       "55:34.0    1045\n",
       "55:45.9    1043\n",
       "           ... \n",
       "47:54.7       1\n",
       "41:50.0       1\n",
       "16:30.4       1\n",
       "52:23.3       1\n",
       "35:12.1       1\n",
       "Name: first_timestamp, Length: 35897, dtype: int64"
      ]
     },
     "execution_count": 12,
     "metadata": {},
     "output_type": "execute_result"
    }
   ],
   "source": [
    "df['first_timestamp'].value_counts()"
   ]
  },
  {
   "cell_type": "code",
   "execution_count": 192,
   "metadata": {},
   "outputs": [],
   "source": [
    "# df['first_timestamp'] = pd.to_datetime(df['first_timestamp']).astype(int) / 10**9\n",
    "# df['first_timestamp_fwd'] = pd.to_datetime(df['first_timestamp_fwd']).astype(int) / 10**9\n",
    "\n",
    "\n",
    "# df['last_timestamp_bwd'] = pd.to_datetime(df['last_timestamp_bwd']).astype(int) / 10**9\n",
    "\n",
    "# df['last_timestamp'] = pd.to_datetime(df['last_timestamp']).astype(int) / 10**9\n",
    "\n",
    "# df['first_timestamp_bwd'] = pd.to_datetime(df['first_timestamp_bwd']).astype(int) / 10**9\n",
    "\n",
    "# df['last_timestamp_fwd'] = pd.to_datetime(df['last_timestamp_fwd']).astype(int) / 10**9\n"
   ]
  },
  {
   "cell_type": "markdown",
   "metadata": {},
   "source": [
    "# Dataframe - Rescaled Proportions"
   ]
  },
  {
   "cell_type": "code",
   "execution_count": 193,
   "metadata": {},
   "outputs": [],
   "source": [
    "original_total = 2187304"
   ]
  },
  {
   "cell_type": "code",
   "execution_count": 194,
   "metadata": {},
   "outputs": [],
   "source": [
    "benign = 1807787\n",
    "ddos = 320269\n",
    "portscan = 57305\n",
    "botnet = 1943"
   ]
  },
  {
   "cell_type": "code",
   "execution_count": 195,
   "metadata": {},
   "outputs": [
    {
     "name": "stdout",
     "output_type": "stream",
     "text": [
      "Benign %:  0.8264909678764361\n",
      "Ddos %:  0.14642180510802338\n",
      "PortScan %:  0.02619891885170054\n",
      "Botnet %:  0.0008883081638400515\n"
     ]
    }
   ],
   "source": [
    "print('Benign %: ', benign/original_total)\n",
    "print('Ddos %: ', ddos/original_total)\n",
    "print('PortScan %: ', portscan/original_total)\n",
    "print('Botnet %: ', botnet/original_total)"
   ]
  },
  {
   "cell_type": "code",
   "execution_count": 196,
   "metadata": {},
   "outputs": [],
   "source": [
    "benign_count = df['label'].value_counts().benign\n",
    "ddos_count = int(np.floor(df['label'].value_counts().benign*ddos/original_total))\n",
    "portscan_count = int(np.floor(df['label'].value_counts().benign*portscan/original_total))\n",
    "botnet_count = int(np.floor(df['label'].value_counts().benign*botnet/original_total))"
   ]
  },
  {
   "cell_type": "code",
   "execution_count": 14,
   "metadata": {},
   "outputs": [],
   "source": [
    "df_resampled = pd.concat([\n",
    "    df[df['label'] == 'benign'],\n",
    "    df[df['label'] == 'ddos'].sample(ddos_count, random_state=42),\n",
    "    df[df['label'] == 'port_scan'].sample(portscan_count, random_state=42),\n",
    "    df[df['label'] == 'botnet'].sample(botnet_count, random_state=42)\n",
    "])"
   ]
  },
  {
   "cell_type": "code",
   "execution_count": 15,
   "metadata": {},
   "outputs": [
    {
     "name": "stdout",
     "output_type": "stream",
     "text": [
      "benign       4802\n",
      "ddos          703\n",
      "port_scan     125\n",
      "botnet          4\n",
      "Name: label, dtype: int64\n",
      "benign       85.232517\n",
      "ddos         12.477813\n",
      "port_scan     2.218672\n",
      "botnet        0.070998\n",
      "Name: label, dtype: float64\n"
     ]
    }
   ],
   "source": [
    "print(df_resampled['label'].value_counts())\n",
    "# Compute proportions\n",
    "proportions = df_resampled['label'].value_counts()*100 / len(df_resampled)\n",
    "\n",
    "# Display proportions\n",
    "print(proportions)"
   ]
  },
  {
   "cell_type": "markdown",
   "metadata": {},
   "source": [
    "# Split dataset"
   ]
  },
  {
   "cell_type": "code",
   "execution_count": 12,
   "metadata": {},
   "outputs": [],
   "source": [
    "# df = df_resampled"
   ]
  },
  {
   "cell_type": "code",
   "execution_count": 13,
   "metadata": {},
   "outputs": [
    {
     "data": {
      "text/html": [
       "<div>\n",
       "<style scoped>\n",
       "    .dataframe tbody tr th:only-of-type {\n",
       "        vertical-align: middle;\n",
       "    }\n",
       "\n",
       "    .dataframe tbody tr th {\n",
       "        vertical-align: top;\n",
       "    }\n",
       "\n",
       "    .dataframe thead th {\n",
       "        text-align: right;\n",
       "    }\n",
       "</style>\n",
       "<table border=\"1\" class=\"dataframe\">\n",
       "  <thead>\n",
       "    <tr style=\"text-align: right;\">\n",
       "      <th></th>\n",
       "      <th>sport</th>\n",
       "      <th>src_ip</th>\n",
       "      <th>dst_port</th>\n",
       "      <th>dst_ip</th>\n",
       "      <th>protocol</th>\n",
       "      <th>first_timestamp</th>\n",
       "      <th>last_timestamp</th>\n",
       "      <th>flow_duration</th>\n",
       "      <th>total_size</th>\n",
       "      <th>avg_size</th>\n",
       "      <th>std_size</th>\n",
       "      <th>inter_arrival_mean</th>\n",
       "      <th>inter_arrival_std</th>\n",
       "      <th>total_fwd_packets</th>\n",
       "      <th>first_timestamp_fwd</th>\n",
       "      <th>last_timestamp_fwd</th>\n",
       "      <th>fwd_flow_duration</th>\n",
       "      <th>total_fwd_pkt_size</th>\n",
       "      <th>avg_fwd_pkt_size</th>\n",
       "      <th>std_fwd_pkt_size</th>\n",
       "      <th>inter_arrival_mean_fwd</th>\n",
       "      <th>inter_arrival_std_fwd</th>\n",
       "      <th>total_bwd_packets</th>\n",
       "      <th>first_timestamp_bwd</th>\n",
       "      <th>last_timestamp_bwd</th>\n",
       "      <th>bwd_flow_duration</th>\n",
       "      <th>total_bwd_pkt_size</th>\n",
       "      <th>avg_bwd_pkt_size</th>\n",
       "      <th>std_bwd_pkt_size</th>\n",
       "      <th>inter_arrival_mean_bwd</th>\n",
       "      <th>inter_arrival_std_bwd</th>\n",
       "      <th>syn_flag_count</th>\n",
       "      <th>fin_flag_count</th>\n",
       "      <th>rst_flag_count</th>\n",
       "      <th>psh_flag_count</th>\n",
       "      <th>ack_flag_count</th>\n",
       "      <th>urg_flag_count</th>\n",
       "      <th>cwr_flag_count</th>\n",
       "      <th>ece_flag_count</th>\n",
       "      <th>label</th>\n",
       "      <th>flow_id</th>\n",
       "      <th>count_flow_id</th>\n",
       "    </tr>\n",
       "  </thead>\n",
       "  <tbody>\n",
       "    <tr>\n",
       "      <th>0</th>\n",
       "      <td>80</td>\n",
       "      <td>8.254.250.126</td>\n",
       "      <td>49188</td>\n",
       "      <td>192.168.10.5</td>\n",
       "      <td>6</td>\n",
       "      <td>55:58.6</td>\n",
       "      <td>55:58.6</td>\n",
       "      <td>0.000000</td>\n",
       "      <td>40</td>\n",
       "      <td>40.0</td>\n",
       "      <td>0.000</td>\n",
       "      <td>NaN</td>\n",
       "      <td>NaN</td>\n",
       "      <td>1</td>\n",
       "      <td>55:58.6</td>\n",
       "      <td>55:58.6</td>\n",
       "      <td>0.000000</td>\n",
       "      <td>40</td>\n",
       "      <td>40.000</td>\n",
       "      <td>0.000</td>\n",
       "      <td>NaN</td>\n",
       "      <td>NaN</td>\n",
       "      <td>0</td>\n",
       "      <td>NaN</td>\n",
       "      <td>NaN</td>\n",
       "      <td>NaN</td>\n",
       "      <td>0</td>\n",
       "      <td>NaN</td>\n",
       "      <td>NaN</td>\n",
       "      <td>NaN</td>\n",
       "      <td>NaN</td>\n",
       "      <td>0</td>\n",
       "      <td>1</td>\n",
       "      <td>0</td>\n",
       "      <td>0</td>\n",
       "      <td>1</td>\n",
       "      <td>0</td>\n",
       "      <td>0</td>\n",
       "      <td>0</td>\n",
       "      <td>benign</td>\n",
       "      <td>8.254.250.126-192.168.10.5-80-49188</td>\n",
       "      <td>1</td>\n",
       "    </tr>\n",
       "    <tr>\n",
       "      <th>1</th>\n",
       "      <td>80</td>\n",
       "      <td>8.253.185.121</td>\n",
       "      <td>49486</td>\n",
       "      <td>192.168.10.14</td>\n",
       "      <td>6</td>\n",
       "      <td>56:22.3</td>\n",
       "      <td>56:22.3</td>\n",
       "      <td>0.000000</td>\n",
       "      <td>40</td>\n",
       "      <td>40.0</td>\n",
       "      <td>0.000</td>\n",
       "      <td>NaN</td>\n",
       "      <td>NaN</td>\n",
       "      <td>1</td>\n",
       "      <td>56:22.3</td>\n",
       "      <td>56:22.3</td>\n",
       "      <td>0.000000</td>\n",
       "      <td>40</td>\n",
       "      <td>40.000</td>\n",
       "      <td>0.000</td>\n",
       "      <td>NaN</td>\n",
       "      <td>NaN</td>\n",
       "      <td>0</td>\n",
       "      <td>NaN</td>\n",
       "      <td>NaN</td>\n",
       "      <td>NaN</td>\n",
       "      <td>0</td>\n",
       "      <td>NaN</td>\n",
       "      <td>NaN</td>\n",
       "      <td>NaN</td>\n",
       "      <td>NaN</td>\n",
       "      <td>0</td>\n",
       "      <td>1</td>\n",
       "      <td>0</td>\n",
       "      <td>0</td>\n",
       "      <td>1</td>\n",
       "      <td>0</td>\n",
       "      <td>0</td>\n",
       "      <td>0</td>\n",
       "      <td>benign</td>\n",
       "      <td>8.253.185.121-192.168.10.14-80-49486</td>\n",
       "      <td>1</td>\n",
       "    </tr>\n",
       "    <tr>\n",
       "      <th>3</th>\n",
       "      <td>60372</td>\n",
       "      <td>192.168.10.9</td>\n",
       "      <td>5355</td>\n",
       "      <td>224.0.0.252</td>\n",
       "      <td>17</td>\n",
       "      <td>56:37.6</td>\n",
       "      <td>56:37.7</td>\n",
       "      <td>0.098631</td>\n",
       "      <td>112</td>\n",
       "      <td>56.0</td>\n",
       "      <td>0.000</td>\n",
       "      <td>0.098631</td>\n",
       "      <td>0.000000</td>\n",
       "      <td>2</td>\n",
       "      <td>56:37.6</td>\n",
       "      <td>56:37.7</td>\n",
       "      <td>0.098631</td>\n",
       "      <td>112</td>\n",
       "      <td>56.000</td>\n",
       "      <td>0.000</td>\n",
       "      <td>0.098631</td>\n",
       "      <td>0.000000</td>\n",
       "      <td>0</td>\n",
       "      <td>NaN</td>\n",
       "      <td>NaN</td>\n",
       "      <td>NaN</td>\n",
       "      <td>0</td>\n",
       "      <td>NaN</td>\n",
       "      <td>NaN</td>\n",
       "      <td>NaN</td>\n",
       "      <td>NaN</td>\n",
       "      <td>0</td>\n",
       "      <td>0</td>\n",
       "      <td>0</td>\n",
       "      <td>0</td>\n",
       "      <td>0</td>\n",
       "      <td>0</td>\n",
       "      <td>0</td>\n",
       "      <td>0</td>\n",
       "      <td>benign</td>\n",
       "      <td>192.168.10.9-224.0.0.252-60372-5355</td>\n",
       "      <td>1</td>\n",
       "    </tr>\n",
       "    <tr>\n",
       "      <th>4</th>\n",
       "      <td>137</td>\n",
       "      <td>192.168.10.9</td>\n",
       "      <td>137</td>\n",
       "      <td>192.168.10.3</td>\n",
       "      <td>17</td>\n",
       "      <td>56:37.9</td>\n",
       "      <td>53:36.4</td>\n",
       "      <td>28618.462310</td>\n",
       "      <td>17202</td>\n",
       "      <td>91.5</td>\n",
       "      <td>4.936</td>\n",
       "      <td>153.039905</td>\n",
       "      <td>397.914943</td>\n",
       "      <td>93</td>\n",
       "      <td>56:37.9</td>\n",
       "      <td>53:36.4</td>\n",
       "      <td>28618.462210</td>\n",
       "      <td>8712</td>\n",
       "      <td>93.677</td>\n",
       "      <td>6.034</td>\n",
       "      <td>311.070241</td>\n",
       "      <td>522.185092</td>\n",
       "      <td>95</td>\n",
       "      <td>1.499083e+09</td>\n",
       "      <td>1.499112e+09</td>\n",
       "      <td>28618.46208</td>\n",
       "      <td>8490</td>\n",
       "      <td>89.368</td>\n",
       "      <td>1.841</td>\n",
       "      <td>304.451724</td>\n",
       "      <td>518.546738</td>\n",
       "      <td>0</td>\n",
       "      <td>0</td>\n",
       "      <td>0</td>\n",
       "      <td>0</td>\n",
       "      <td>0</td>\n",
       "      <td>0</td>\n",
       "      <td>0</td>\n",
       "      <td>0</td>\n",
       "      <td>benign</td>\n",
       "      <td>192.168.10.9-192.168.10.3-137-137</td>\n",
       "      <td>16</td>\n",
       "    </tr>\n",
       "    <tr>\n",
       "      <th>5</th>\n",
       "      <td>63683</td>\n",
       "      <td>192.168.10.9</td>\n",
       "      <td>53</td>\n",
       "      <td>192.168.10.3</td>\n",
       "      <td>17</td>\n",
       "      <td>56:37.9</td>\n",
       "      <td>24:43.3</td>\n",
       "      <td>16085.431880</td>\n",
       "      <td>430</td>\n",
       "      <td>107.5</td>\n",
       "      <td>35.146</td>\n",
       "      <td>5361.810628</td>\n",
       "      <td>7582.536591</td>\n",
       "      <td>2</td>\n",
       "      <td>56:37.9</td>\n",
       "      <td>24:43.0</td>\n",
       "      <td>16085.137000</td>\n",
       "      <td>169</td>\n",
       "      <td>84.500</td>\n",
       "      <td>24.500</td>\n",
       "      <td>16085.137000</td>\n",
       "      <td>0.000000</td>\n",
       "      <td>2</td>\n",
       "      <td>1.499083e+09</td>\n",
       "      <td>1.499099e+09</td>\n",
       "      <td>16085.43160</td>\n",
       "      <td>261</td>\n",
       "      <td>130.500</td>\n",
       "      <td>28.500</td>\n",
       "      <td>16085.431600</td>\n",
       "      <td>0.000000</td>\n",
       "      <td>0</td>\n",
       "      <td>0</td>\n",
       "      <td>0</td>\n",
       "      <td>0</td>\n",
       "      <td>0</td>\n",
       "      <td>0</td>\n",
       "      <td>0</td>\n",
       "      <td>0</td>\n",
       "      <td>benign</td>\n",
       "      <td>192.168.10.9-192.168.10.3-63683-53</td>\n",
       "      <td>2</td>\n",
       "    </tr>\n",
       "  </tbody>\n",
       "</table>\n",
       "</div>"
      ],
      "text/plain": [
       "   sport         src_ip dst_port         dst_ip  protocol first_timestamp  \\\n",
       "0     80  8.254.250.126    49188   192.168.10.5         6         55:58.6   \n",
       "1     80  8.253.185.121    49486  192.168.10.14         6         56:22.3   \n",
       "3  60372   192.168.10.9     5355    224.0.0.252        17         56:37.6   \n",
       "4    137   192.168.10.9      137   192.168.10.3        17         56:37.9   \n",
       "5  63683   192.168.10.9       53   192.168.10.3        17         56:37.9   \n",
       "\n",
       "  last_timestamp  flow_duration  total_size  avg_size  std_size  \\\n",
       "0        55:58.6       0.000000          40      40.0     0.000   \n",
       "1        56:22.3       0.000000          40      40.0     0.000   \n",
       "3        56:37.7       0.098631         112      56.0     0.000   \n",
       "4        53:36.4   28618.462310       17202      91.5     4.936   \n",
       "5        24:43.3   16085.431880         430     107.5    35.146   \n",
       "\n",
       "   inter_arrival_mean  inter_arrival_std  total_fwd_packets  \\\n",
       "0                 NaN                NaN                  1   \n",
       "1                 NaN                NaN                  1   \n",
       "3            0.098631           0.000000                  2   \n",
       "4          153.039905         397.914943                 93   \n",
       "5         5361.810628        7582.536591                  2   \n",
       "\n",
       "  first_timestamp_fwd last_timestamp_fwd  fwd_flow_duration  \\\n",
       "0             55:58.6            55:58.6           0.000000   \n",
       "1             56:22.3            56:22.3           0.000000   \n",
       "3             56:37.6            56:37.7           0.098631   \n",
       "4             56:37.9            53:36.4       28618.462210   \n",
       "5             56:37.9            24:43.0       16085.137000   \n",
       "\n",
       "   total_fwd_pkt_size  avg_fwd_pkt_size  std_fwd_pkt_size  \\\n",
       "0                  40            40.000             0.000   \n",
       "1                  40            40.000             0.000   \n",
       "3                 112            56.000             0.000   \n",
       "4                8712            93.677             6.034   \n",
       "5                 169            84.500            24.500   \n",
       "\n",
       "   inter_arrival_mean_fwd  inter_arrival_std_fwd  total_bwd_packets  \\\n",
       "0                     NaN                    NaN                  0   \n",
       "1                     NaN                    NaN                  0   \n",
       "3                0.098631               0.000000                  0   \n",
       "4              311.070241             522.185092                 95   \n",
       "5            16085.137000               0.000000                  2   \n",
       "\n",
       "   first_timestamp_bwd  last_timestamp_bwd  bwd_flow_duration  \\\n",
       "0                  NaN                 NaN                NaN   \n",
       "1                  NaN                 NaN                NaN   \n",
       "3                  NaN                 NaN                NaN   \n",
       "4         1.499083e+09        1.499112e+09        28618.46208   \n",
       "5         1.499083e+09        1.499099e+09        16085.43160   \n",
       "\n",
       "   total_bwd_pkt_size  avg_bwd_pkt_size  std_bwd_pkt_size  \\\n",
       "0                   0               NaN               NaN   \n",
       "1                   0               NaN               NaN   \n",
       "3                   0               NaN               NaN   \n",
       "4                8490            89.368             1.841   \n",
       "5                 261           130.500            28.500   \n",
       "\n",
       "   inter_arrival_mean_bwd  inter_arrival_std_bwd  syn_flag_count  \\\n",
       "0                     NaN                    NaN               0   \n",
       "1                     NaN                    NaN               0   \n",
       "3                     NaN                    NaN               0   \n",
       "4              304.451724             518.546738               0   \n",
       "5            16085.431600               0.000000               0   \n",
       "\n",
       "   fin_flag_count  rst_flag_count  psh_flag_count  ack_flag_count  \\\n",
       "0               1               0               0               1   \n",
       "1               1               0               0               1   \n",
       "3               0               0               0               0   \n",
       "4               0               0               0               0   \n",
       "5               0               0               0               0   \n",
       "\n",
       "   urg_flag_count  cwr_flag_count  ece_flag_count   label  \\\n",
       "0               0               0               0  benign   \n",
       "1               0               0               0  benign   \n",
       "3               0               0               0  benign   \n",
       "4               0               0               0  benign   \n",
       "5               0               0               0  benign   \n",
       "\n",
       "                                flow_id  count_flow_id  \n",
       "0   8.254.250.126-192.168.10.5-80-49188              1  \n",
       "1  8.253.185.121-192.168.10.14-80-49486              1  \n",
       "3   192.168.10.9-224.0.0.252-60372-5355              1  \n",
       "4     192.168.10.9-192.168.10.3-137-137             16  \n",
       "5    192.168.10.9-192.168.10.3-63683-53              2  "
      ]
     },
     "execution_count": 13,
     "metadata": {},
     "output_type": "execute_result"
    }
   ],
   "source": [
    "df.head()"
   ]
  },
  {
   "cell_type": "code",
   "execution_count": 13,
   "metadata": {},
   "outputs": [],
   "source": [
    "# Removing non-numerical features\n",
    "features = list(set(df.columns) -\\\n",
    "    set(['label', 'flow_id', 'src_ip', 'dst_port', 'dst_ip', 'sport', 'pkt_lens', 'fwd_inter_arrival_times', 'fwd_arrival_times',\n",
    "         'bwd_arrival_times', 'arrival_times', 'bwd_pkt_lens', 'inter_arrival_times', 'fwd_pkt_lens', 'bwd_inter_arrival_times']) -\\\n",
    "              set(['first_timestamp', 'last_timestamp', 'first_timestamp_fwd', 'last_timestamp_fwd', 'first_timestamp_bwd', 'last_timestamp_bwd']))\n",
    "label = ['label']"
   ]
  },
  {
   "cell_type": "code",
   "execution_count": 14,
   "metadata": {},
   "outputs": [
    {
     "data": {
      "text/plain": [
       "['cwr_flag_count',\n",
       " 'avg_bwd_pkt_size',\n",
       " 'inter_arrival_mean',\n",
       " 'inter_arrival_std_bwd',\n",
       " 'urg_flag_count',\n",
       " 'count_flow_id',\n",
       " 'inter_arrival_std_fwd',\n",
       " 'inter_arrival_mean_fwd',\n",
       " 'std_fwd_pkt_size',\n",
       " 'ack_flag_count',\n",
       " 'std_bwd_pkt_size',\n",
       " 'psh_flag_count',\n",
       " 'bwd_flow_duration',\n",
       " 'fin_flag_count',\n",
       " 'rst_flag_count',\n",
       " 'protocol',\n",
       " 'total_bwd_pkt_size',\n",
       " 'inter_arrival_mean_bwd',\n",
       " 'flow_duration',\n",
       " 'std_size',\n",
       " 'avg_fwd_pkt_size',\n",
       " 'total_fwd_packets',\n",
       " 'inter_arrival_std',\n",
       " 'avg_size',\n",
       " 'total_bwd_packets',\n",
       " 'total_fwd_pkt_size',\n",
       " 'syn_flag_count',\n",
       " 'total_size',\n",
       " 'ece_flag_count',\n",
       " 'fwd_flow_duration']"
      ]
     },
     "execution_count": 14,
     "metadata": {},
     "output_type": "execute_result"
    }
   ],
   "source": [
    "features"
   ]
  },
  {
   "cell_type": "markdown",
   "metadata": {},
   "source": [
    "# Split dataset"
   ]
  },
  {
   "cell_type": "code",
   "execution_count": 15,
   "metadata": {},
   "outputs": [],
   "source": [
    "# # COLUMN len_per_sec has INF\n",
    "\n",
    "# df.replace([np.inf, -np.inf], np.nan, inplace=True)\n",
    "# df['len_per_sec'].fillna(df['len_per_sec'].mean(), inplace=True)"
   ]
  },
  {
   "cell_type": "code",
   "execution_count": 17,
   "metadata": {},
   "outputs": [
    {
     "ename": "NameError",
     "evalue": "name 'X' is not defined",
     "output_type": "error",
     "traceback": [
      "\u001b[0;31m---------------------------------------------------------------------------\u001b[0m",
      "\u001b[0;31mNameError\u001b[0m                                 Traceback (most recent call last)",
      "Input \u001b[0;32mIn [17]\u001b[0m, in \u001b[0;36m<cell line: 1>\u001b[0;34m()\u001b[0m\n\u001b[0;32m----> 1\u001b[0m \u001b[43mX\u001b[49m\u001b[38;5;241m.\u001b[39misnull()\u001b[38;5;241m.\u001b[39msum()\n",
      "\u001b[0;31mNameError\u001b[0m: name 'X' is not defined"
     ]
    }
   ],
   "source": [
    "X.isnull().sum()"
   ]
  },
  {
   "cell_type": "code",
   "execution_count": 27,
   "metadata": {},
   "outputs": [
    {
     "name": "stderr",
     "output_type": "stream",
     "text": [
      "/Users/danieldacosta/miniconda3/envs/work/lib/python3.10/site-packages/sklearn/preprocessing/_label.py:116: DataConversionWarning: A column-vector y was passed when a 1d array was expected. Please change the shape of y to (n_samples, ), for example using ravel().\n",
      "  y = column_or_1d(y, warn=True)\n"
     ]
    }
   ],
   "source": [
    "\n",
    "\n",
    "# X = df[features]\n",
    "# # X = df[['fin_flag_count', 'rst_flag_count']]\n",
    "# y = df['label']\n",
    "\n",
    "# Droping NaN\n",
    "X = df[ features+ ['label']].dropna(how='any')\n",
    "y = X[label]\n",
    "X = X[features]\n",
    "\n",
    "\n",
    "\n",
    "label_encoder = LabelEncoder()\n",
    "y_encoded = label_encoder.fit_transform(y)\n",
    "\n",
    "# Binarize the labels\n",
    "y_bin = label_binarize(y_encoded, classes=[0, 1, 2, 3, 4, 5, 6, 7, 8, 9, 10, 11, 12, 13, 14, 15, 16, 17])"
   ]
  },
  {
   "cell_type": "code",
   "execution_count": 28,
   "metadata": {},
   "outputs": [
    {
     "data": {
      "text/plain": [
       "516954"
      ]
     },
     "execution_count": 28,
     "metadata": {},
     "output_type": "execute_result"
    }
   ],
   "source": [
    "X.shape[0]"
   ]
  },
  {
   "cell_type": "markdown",
   "metadata": {},
   "source": [
    "# Model"
   ]
  },
  {
   "cell_type": "code",
   "execution_count": 16,
   "metadata": {},
   "outputs": [],
   "source": [
    "pd.set_option('display.max_columns', None)"
   ]
  },
  {
   "cell_type": "code",
   "execution_count": 30,
   "metadata": {},
   "outputs": [],
   "source": [
    "from xgboost import XGBClassifier\n",
    "from sklearn.metrics import classification_report, accuracy_score\n",
    "from itertools import cycle"
   ]
  },
  {
   "cell_type": "markdown",
   "metadata": {},
   "source": [
    "- Logistic Regression"
   ]
  },
  {
   "cell_type": "code",
   "execution_count": 22,
   "metadata": {},
   "outputs": [
    {
     "ename": "NameError",
     "evalue": "name 'train_test_split' is not defined",
     "output_type": "error",
     "traceback": [
      "\u001b[0;31m---------------------------------------------------------------------------\u001b[0m",
      "\u001b[0;31mNameError\u001b[0m                                 Traceback (most recent call last)",
      "Input \u001b[0;32mIn [22]\u001b[0m, in \u001b[0;36m<cell line: 1>\u001b[0;34m()\u001b[0m\n\u001b[0;32m----> 1\u001b[0m X_train, X_test, y_train, y_test \u001b[38;5;241m=\u001b[39m \u001b[43mtrain_test_split\u001b[49m(X, y_bin, test_size\u001b[38;5;241m=\u001b[39m\u001b[38;5;241m0.3\u001b[39m, random_state\u001b[38;5;241m=\u001b[39m\u001b[38;5;241m42\u001b[39m)\n",
      "\u001b[0;31mNameError\u001b[0m: name 'train_test_split' is not defined"
     ]
    }
   ],
   "source": [
    "X_train, X_test, y_train, y_test = train_test_split(X, y_bin, test_size=0.3, random_state=42)"
   ]
  },
  {
   "cell_type": "code",
   "execution_count": 23,
   "metadata": {},
   "outputs": [],
   "source": [
    "# Create the classifier\n",
    "clf = OneVsRestClassifier(Pipeline([('scaler', StandardScaler()), ('classifier', LogisticRegression(max_iter=10000))]))"
   ]
  },
  {
   "cell_type": "code",
   "execution_count": 31,
   "metadata": {},
   "outputs": [
    {
     "name": "stderr",
     "output_type": "stream",
     "text": [
      "/Users/danieldacosta/miniconda3/envs/work/lib/python3.10/site-packages/sklearn/multiclass.py:77: UserWarning: Label not 9 is present in all training examples.\n",
      "  warnings.warn(\n"
     ]
    },
    {
     "data": {
      "text/html": [
       "<style>#sk-container-id-1 {color: black;background-color: white;}#sk-container-id-1 pre{padding: 0;}#sk-container-id-1 div.sk-toggleable {background-color: white;}#sk-container-id-1 label.sk-toggleable__label {cursor: pointer;display: block;width: 100%;margin-bottom: 0;padding: 0.3em;box-sizing: border-box;text-align: center;}#sk-container-id-1 label.sk-toggleable__label-arrow:before {content: \"▸\";float: left;margin-right: 0.25em;color: #696969;}#sk-container-id-1 label.sk-toggleable__label-arrow:hover:before {color: black;}#sk-container-id-1 div.sk-estimator:hover label.sk-toggleable__label-arrow:before {color: black;}#sk-container-id-1 div.sk-toggleable__content {max-height: 0;max-width: 0;overflow: hidden;text-align: left;background-color: #f0f8ff;}#sk-container-id-1 div.sk-toggleable__content pre {margin: 0.2em;color: black;border-radius: 0.25em;background-color: #f0f8ff;}#sk-container-id-1 input.sk-toggleable__control:checked~div.sk-toggleable__content {max-height: 200px;max-width: 100%;overflow: auto;}#sk-container-id-1 input.sk-toggleable__control:checked~label.sk-toggleable__label-arrow:before {content: \"▾\";}#sk-container-id-1 div.sk-estimator input.sk-toggleable__control:checked~label.sk-toggleable__label {background-color: #d4ebff;}#sk-container-id-1 div.sk-label input.sk-toggleable__control:checked~label.sk-toggleable__label {background-color: #d4ebff;}#sk-container-id-1 input.sk-hidden--visually {border: 0;clip: rect(1px 1px 1px 1px);clip: rect(1px, 1px, 1px, 1px);height: 1px;margin: -1px;overflow: hidden;padding: 0;position: absolute;width: 1px;}#sk-container-id-1 div.sk-estimator {font-family: monospace;background-color: #f0f8ff;border: 1px dotted black;border-radius: 0.25em;box-sizing: border-box;margin-bottom: 0.5em;}#sk-container-id-1 div.sk-estimator:hover {background-color: #d4ebff;}#sk-container-id-1 div.sk-parallel-item::after {content: \"\";width: 100%;border-bottom: 1px solid gray;flex-grow: 1;}#sk-container-id-1 div.sk-label:hover label.sk-toggleable__label {background-color: #d4ebff;}#sk-container-id-1 div.sk-serial::before {content: \"\";position: absolute;border-left: 1px solid gray;box-sizing: border-box;top: 0;bottom: 0;left: 50%;z-index: 0;}#sk-container-id-1 div.sk-serial {display: flex;flex-direction: column;align-items: center;background-color: white;padding-right: 0.2em;padding-left: 0.2em;position: relative;}#sk-container-id-1 div.sk-item {position: relative;z-index: 1;}#sk-container-id-1 div.sk-parallel {display: flex;align-items: stretch;justify-content: center;background-color: white;position: relative;}#sk-container-id-1 div.sk-item::before, #sk-container-id-1 div.sk-parallel-item::before {content: \"\";position: absolute;border-left: 1px solid gray;box-sizing: border-box;top: 0;bottom: 0;left: 50%;z-index: -1;}#sk-container-id-1 div.sk-parallel-item {display: flex;flex-direction: column;z-index: 1;position: relative;background-color: white;}#sk-container-id-1 div.sk-parallel-item:first-child::after {align-self: flex-end;width: 50%;}#sk-container-id-1 div.sk-parallel-item:last-child::after {align-self: flex-start;width: 50%;}#sk-container-id-1 div.sk-parallel-item:only-child::after {width: 0;}#sk-container-id-1 div.sk-dashed-wrapped {border: 1px dashed gray;margin: 0 0.4em 0.5em 0.4em;box-sizing: border-box;padding-bottom: 0.4em;background-color: white;}#sk-container-id-1 div.sk-label label {font-family: monospace;font-weight: bold;display: inline-block;line-height: 1.2em;}#sk-container-id-1 div.sk-label-container {text-align: center;}#sk-container-id-1 div.sk-container {/* jupyter's `normalize.less` sets `[hidden] { display: none; }` but bootstrap.min.css set `[hidden] { display: none !important; }` so we also need the `!important` here to be able to override the default hidden behavior on the sphinx rendered scikit-learn.org. See: https://github.com/scikit-learn/scikit-learn/issues/21755 */display: inline-block !important;position: relative;}#sk-container-id-1 div.sk-text-repr-fallback {display: none;}</style><div id=\"sk-container-id-1\" class=\"sk-top-container\"><div class=\"sk-text-repr-fallback\"><pre>OneVsRestClassifier(estimator=Pipeline(steps=[(&#x27;scaler&#x27;, StandardScaler()),\n",
       "                                              (&#x27;classifier&#x27;,\n",
       "                                               LogisticRegression(max_iter=10000))]))</pre><b>In a Jupyter environment, please rerun this cell to show the HTML representation or trust the notebook. <br />On GitHub, the HTML representation is unable to render, please try loading this page with nbviewer.org.</b></div><div class=\"sk-container\" hidden><div class=\"sk-item sk-dashed-wrapped\"><div class=\"sk-label-container\"><div class=\"sk-label sk-toggleable\"><input class=\"sk-toggleable__control sk-hidden--visually\" id=\"sk-estimator-id-1\" type=\"checkbox\" ><label for=\"sk-estimator-id-1\" class=\"sk-toggleable__label sk-toggleable__label-arrow\">OneVsRestClassifier</label><div class=\"sk-toggleable__content\"><pre>OneVsRestClassifier(estimator=Pipeline(steps=[(&#x27;scaler&#x27;, StandardScaler()),\n",
       "                                              (&#x27;classifier&#x27;,\n",
       "                                               LogisticRegression(max_iter=10000))]))</pre></div></div></div><div class=\"sk-parallel\"><div class=\"sk-parallel-item\"><div class=\"sk-item\"><div class=\"sk-label-container\"><div class=\"sk-label sk-toggleable\"><input class=\"sk-toggleable__control sk-hidden--visually\" id=\"sk-estimator-id-2\" type=\"checkbox\" ><label for=\"sk-estimator-id-2\" class=\"sk-toggleable__label sk-toggleable__label-arrow\">estimator: Pipeline</label><div class=\"sk-toggleable__content\"><pre>Pipeline(steps=[(&#x27;scaler&#x27;, StandardScaler()),\n",
       "                (&#x27;classifier&#x27;, LogisticRegression(max_iter=10000))])</pre></div></div></div><div class=\"sk-serial\"><div class=\"sk-item\"><div class=\"sk-serial\"><div class=\"sk-item\"><div class=\"sk-estimator sk-toggleable\"><input class=\"sk-toggleable__control sk-hidden--visually\" id=\"sk-estimator-id-3\" type=\"checkbox\" ><label for=\"sk-estimator-id-3\" class=\"sk-toggleable__label sk-toggleable__label-arrow\">StandardScaler</label><div class=\"sk-toggleable__content\"><pre>StandardScaler()</pre></div></div></div><div class=\"sk-item\"><div class=\"sk-estimator sk-toggleable\"><input class=\"sk-toggleable__control sk-hidden--visually\" id=\"sk-estimator-id-4\" type=\"checkbox\" ><label for=\"sk-estimator-id-4\" class=\"sk-toggleable__label sk-toggleable__label-arrow\">LogisticRegression</label><div class=\"sk-toggleable__content\"><pre>LogisticRegression(max_iter=10000)</pre></div></div></div></div></div></div></div></div></div></div></div></div>"
      ],
      "text/plain": [
       "OneVsRestClassifier(estimator=Pipeline(steps=[('scaler', StandardScaler()),\n",
       "                                              ('classifier',\n",
       "                                               LogisticRegression(max_iter=10000))]))"
      ]
     },
     "execution_count": 31,
     "metadata": {},
     "output_type": "execute_result"
    }
   ],
   "source": [
    "# Train the classifier\n",
    "clf.fit(X_train, y_train)"
   ]
  },
  {
   "cell_type": "code",
   "execution_count": 32,
   "metadata": {},
   "outputs": [],
   "source": [
    "y_score = clf.predict_proba(X_test)"
   ]
  },
  {
   "cell_type": "code",
   "execution_count": 33,
   "metadata": {},
   "outputs": [],
   "source": [
    "# Compute ROC curve and ROC area for each class\n",
    "fpr = dict()\n",
    "tpr = dict()\n",
    "roc_auc = dict()\n",
    "\n",
    "for i in range(4):\n",
    "    fpr[i], tpr[i], _ = roc_curve(y_test[:, i], y_score[:, i])\n",
    "    roc_auc[i] = auc(fpr[i], tpr[i])"
   ]
  },
  {
   "cell_type": "code",
   "execution_count": 34,
   "metadata": {},
   "outputs": [
    {
     "data": {
      "image/png": "[encoded data removed]",
      "text/plain": [
       "<Figure size 432x288 with 1 Axes>"
      ]
     },
     "metadata": {
      "needs_background": "light"
     },
     "output_type": "display_data"
    }
   ],
   "source": [
    "colors = cycle(['blue', 'red', 'green', 'orange'])\n",
    "for i, color in zip(range(4), colors):\n",
    "    plt.plot(fpr[i], tpr[i], color=color, lw=2,\n",
    "             label='ROC curve of class {0} (area = {1:0.2f})'\n",
    "             ''.format(i, roc_auc[i]))\n",
    "\n",
    "plt.plot([0, 1], [0, 1], 'k--', lw=2)\n",
    "plt.xlim([0.0, 1.0])\n",
    "plt.ylim([0.0, 1.05])\n",
    "plt.xlabel('False Positive Rate')\n",
    "plt.ylabel('True Positive Rate')\n",
    "plt.title('Receiver Operating Characteristic (ROC) Curve')\n",
    "plt.legend(loc=\"lower right\")\n",
    "plt.show()"
   ]
  },
  {
   "cell_type": "code",
   "execution_count": 35,
   "metadata": {},
   "outputs": [
    {
     "name": "stderr",
     "output_type": "stream",
     "text": [
      "/Users/danieldacosta/miniconda3/envs/work/lib/python3.10/site-packages/sklearn/multiclass.py:77: UserWarning: Label not 8 is present in all training examples.\n",
      "  warnings.warn(\n",
      "/Users/danieldacosta/miniconda3/envs/work/lib/python3.10/site-packages/sklearn/multiclass.py:77: UserWarning: Label not 10 is present in all training examples.\n",
      "  warnings.warn(\n",
      "/Users/danieldacosta/miniconda3/envs/work/lib/python3.10/site-packages/sklearn/multiclass.py:77: UserWarning: Label not 8 is present in all training examples.\n",
      "  warnings.warn(\n",
      "/Users/danieldacosta/miniconda3/envs/work/lib/python3.10/site-packages/sklearn/multiclass.py:77: UserWarning: Label not 10 is present in all training examples.\n",
      "  warnings.warn(\n",
      "/Users/danieldacosta/miniconda3/envs/work/lib/python3.10/site-packages/sklearn/multiclass.py:77: UserWarning: Label not 11 is present in all training examples.\n",
      "  warnings.warn(\n",
      "/Users/danieldacosta/miniconda3/envs/work/lib/python3.10/site-packages/sklearn/multiclass.py:77: UserWarning: Label not 12 is present in all training examples.\n",
      "  warnings.warn(\n",
      "/Users/danieldacosta/miniconda3/envs/work/lib/python3.10/site-packages/sklearn/multiclass.py:77: UserWarning: Label not 8 is present in all training examples.\n",
      "  warnings.warn(\n",
      "/Users/danieldacosta/miniconda3/envs/work/lib/python3.10/site-packages/sklearn/multiclass.py:77: UserWarning: Label not 10 is present in all training examples.\n",
      "  warnings.warn(\n",
      "/Users/danieldacosta/miniconda3/envs/work/lib/python3.10/site-packages/sklearn/multiclass.py:77: UserWarning: Label not 8 is present in all training examples.\n",
      "  warnings.warn(\n",
      "/Users/danieldacosta/miniconda3/envs/work/lib/python3.10/site-packages/sklearn/multiclass.py:77: UserWarning: Label not 10 is present in all training examples.\n",
      "  warnings.warn(\n",
      "/Users/danieldacosta/miniconda3/envs/work/lib/python3.10/site-packages/sklearn/multiclass.py:77: UserWarning: Label not 8 is present in all training examples.\n",
      "  warnings.warn(\n",
      "/Users/danieldacosta/miniconda3/envs/work/lib/python3.10/site-packages/sklearn/multiclass.py:77: UserWarning: Label not 9 is present in all training examples.\n",
      "  warnings.warn(\n",
      "/Users/danieldacosta/miniconda3/envs/work/lib/python3.10/site-packages/sklearn/multiclass.py:77: UserWarning: Label not 10 is present in all training examples.\n",
      "  warnings.warn(\n"
     ]
    },
    {
     "name": "stdout",
     "output_type": "stream",
     "text": [
      "0.95 accuracy with a standard deviation of 0.00\n"
     ]
    }
   ],
   "source": [
    "scores = cross_val_score(clf, X_test, y_test, cv=5)\n",
    "print(\"%0.2f accuracy with a standard deviation of %0.2f\" % (scores.mean(), scores.std()))"
   ]
  },
  {
   "cell_type": "markdown",
   "metadata": {},
   "source": [
    "- XGB"
   ]
  },
  {
   "cell_type": "code",
   "execution_count": 31,
   "metadata": {},
   "outputs": [],
   "source": [
    "X_train, X_test, y_train, y_test = train_test_split(X, y_encoded, test_size=0.3, random_state=42)"
   ]
  },
  {
   "cell_type": "code",
   "execution_count": 32,
   "metadata": {},
   "outputs": [],
   "source": [
    "y_bin = label_binarize(y_test, classes=[0, 1, 2, 3, 4, 5, 6, 7, 8, 9, 10, 11, 12, 13, 14, 15, 16, 17])"
   ]
  },
  {
   "cell_type": "code",
   "execution_count": 38,
   "metadata": {},
   "outputs": [],
   "source": [
    "# Initialize XGBoost classifier for multiclass classification\n",
    "xgb_clf = XGBClassifier(\n",
    "    n_estimators=10,\n",
    "    max_depth=3,\n",
    "    objective='multi:softmax')#, num_class=len(set(y_train)))"
   ]
  },
  {
   "cell_type": "code",
   "execution_count": 36,
   "metadata": {},
   "outputs": [
    {
     "data": {
      "text/plain": [
       "{0, 1, 2, 3, 4, 5, 6, 7, 8, 10, 11, 12, 13, 14, 15, 16, 17}"
      ]
     },
     "execution_count": 36,
     "metadata": {},
     "output_type": "execute_result"
    }
   ],
   "source": [
    "set(y_train)"
   ]
  },
  {
   "cell_type": "code",
   "execution_count": 34,
   "metadata": {},
   "outputs": [
    {
     "ename": "ValueError",
     "evalue": "Invalid classes inferred from unique values of `y`.  Expected: [ 0  1  2  3  4  5  6  7  8  9 10 11 12 13 14 15 16], got [ 0  1  2  3  4  5  6  7  8 10 11 12 13 14 15 16 17]",
     "output_type": "error",
     "traceback": [
      "\u001b[0;31m---------------------------------------------------------------------------\u001b[0m",
      "\u001b[0;31mValueError\u001b[0m                                Traceback (most recent call last)",
      "Input \u001b[0;32mIn [34]\u001b[0m, in \u001b[0;36m<cell line: 2>\u001b[0;34m()\u001b[0m\n\u001b[1;32m      1\u001b[0m \u001b[38;5;66;03m# Train the classifier\u001b[39;00m\n\u001b[0;32m----> 2\u001b[0m \u001b[43mxgb_clf\u001b[49m\u001b[38;5;241;43m.\u001b[39;49m\u001b[43mfit\u001b[49m\u001b[43m(\u001b[49m\u001b[43mX_train\u001b[49m\u001b[43m,\u001b[49m\u001b[43m \u001b[49m\u001b[43my_train\u001b[49m\u001b[43m)\u001b[49m\n",
      "File \u001b[0;32m~/miniconda3/envs/work/lib/python3.10/site-packages/xgboost/core.py:620\u001b[0m, in \u001b[0;36mrequire_keyword_args.<locals>.throw_if.<locals>.inner_f\u001b[0;34m(*args, **kwargs)\u001b[0m\n\u001b[1;32m    618\u001b[0m \u001b[38;5;28;01mfor\u001b[39;00m k, arg \u001b[38;5;129;01min\u001b[39;00m \u001b[38;5;28mzip\u001b[39m(sig\u001b[38;5;241m.\u001b[39mparameters, args):\n\u001b[1;32m    619\u001b[0m     kwargs[k] \u001b[38;5;241m=\u001b[39m arg\n\u001b[0;32m--> 620\u001b[0m \u001b[38;5;28;01mreturn\u001b[39;00m \u001b[43mfunc\u001b[49m\u001b[43m(\u001b[49m\u001b[38;5;241;43m*\u001b[39;49m\u001b[38;5;241;43m*\u001b[39;49m\u001b[43mkwargs\u001b[49m\u001b[43m)\u001b[49m\n",
      "File \u001b[0;32m~/miniconda3/envs/work/lib/python3.10/site-packages/xgboost/sklearn.py:1440\u001b[0m, in \u001b[0;36mXGBClassifier.fit\u001b[0;34m(self, X, y, sample_weight, base_margin, eval_set, eval_metric, early_stopping_rounds, verbose, xgb_model, sample_weight_eval_set, base_margin_eval_set, feature_weights, callbacks)\u001b[0m\n\u001b[1;32m   1435\u001b[0m     expected_classes \u001b[38;5;241m=\u001b[39m np\u001b[38;5;241m.\u001b[39marange(\u001b[38;5;28mself\u001b[39m\u001b[38;5;241m.\u001b[39mn_classes_)\n\u001b[1;32m   1436\u001b[0m \u001b[38;5;28;01mif\u001b[39;00m (\n\u001b[1;32m   1437\u001b[0m     \u001b[38;5;28mself\u001b[39m\u001b[38;5;241m.\u001b[39mclasses_\u001b[38;5;241m.\u001b[39mshape \u001b[38;5;241m!=\u001b[39m expected_classes\u001b[38;5;241m.\u001b[39mshape\n\u001b[1;32m   1438\u001b[0m     \u001b[38;5;129;01mor\u001b[39;00m \u001b[38;5;129;01mnot\u001b[39;00m (\u001b[38;5;28mself\u001b[39m\u001b[38;5;241m.\u001b[39mclasses_ \u001b[38;5;241m==\u001b[39m expected_classes)\u001b[38;5;241m.\u001b[39mall()\n\u001b[1;32m   1439\u001b[0m ):\n\u001b[0;32m-> 1440\u001b[0m     \u001b[38;5;28;01mraise\u001b[39;00m \u001b[38;5;167;01mValueError\u001b[39;00m(\n\u001b[1;32m   1441\u001b[0m         \u001b[38;5;124mf\u001b[39m\u001b[38;5;124m\"\u001b[39m\u001b[38;5;124mInvalid classes inferred from unique values of `y`.  \u001b[39m\u001b[38;5;124m\"\u001b[39m\n\u001b[1;32m   1442\u001b[0m         \u001b[38;5;124mf\u001b[39m\u001b[38;5;124m\"\u001b[39m\u001b[38;5;124mExpected: \u001b[39m\u001b[38;5;132;01m{\u001b[39;00mexpected_classes\u001b[38;5;132;01m}\u001b[39;00m\u001b[38;5;124m, got \u001b[39m\u001b[38;5;132;01m{\u001b[39;00m\u001b[38;5;28mself\u001b[39m\u001b[38;5;241m.\u001b[39mclasses_\u001b[38;5;132;01m}\u001b[39;00m\u001b[38;5;124m\"\u001b[39m\n\u001b[1;32m   1443\u001b[0m     )\n\u001b[1;32m   1445\u001b[0m params \u001b[38;5;241m=\u001b[39m \u001b[38;5;28mself\u001b[39m\u001b[38;5;241m.\u001b[39mget_xgb_params()\n\u001b[1;32m   1447\u001b[0m \u001b[38;5;28;01mif\u001b[39;00m callable(\u001b[38;5;28mself\u001b[39m\u001b[38;5;241m.\u001b[39mobjective):\n",
      "\u001b[0;31mValueError\u001b[0m: Invalid classes inferred from unique values of `y`.  Expected: [ 0  1  2  3  4  5  6  7  8  9 10 11 12 13 14 15 16], got [ 0  1  2  3  4  5  6  7  8 10 11 12 13 14 15 16 17]"
     ]
    }
   ],
   "source": [
    "# Train the classifier\n",
    "xgb_clf.fit(X_train, y_train)"
   ]
  },
  {
   "cell_type": "code",
   "execution_count": 81,
   "metadata": {},
   "outputs": [
    {
     "data": {
      "text/plain": [
       "array([ 0,  1,  2,  3,  4,  5,  6,  7,  8, 10, 11, 12, 13, 14, 15, 16, 17])"
      ]
     },
     "execution_count": 81,
     "metadata": {},
     "output_type": "execute_result"
    }
   ],
   "source": [
    "xgb_clf.classes_"
   ]
  },
  {
   "cell_type": "code",
   "execution_count": 69,
   "metadata": {},
   "outputs": [
    {
     "data": {
      "text/plain": [
       "{0, 1, 2, 3, 4, 5, 6, 7, 8, 10, 11, 12, 13, 14, 15, 16, 17}"
      ]
     },
     "execution_count": 69,
     "metadata": {},
     "output_type": "execute_result"
    }
   ],
   "source": []
  },
  {
   "cell_type": "code",
   "execution_count": 612,
   "metadata": {},
   "outputs": [
    {
     "name": "stdout",
     "output_type": "stream",
     "text": [
      "Classification Report:\n",
      "              precision    recall  f1-score   support\n",
      "\n",
      "           0       0.83      0.88      0.86      1445\n",
      "           1       0.99      0.38      0.55       360\n",
      "           2       0.94      0.99      0.97      2572\n",
      "           3       0.99      0.99      0.99      4834\n",
      "\n",
      "    accuracy                           0.95      9211\n",
      "   macro avg       0.94      0.81      0.84      9211\n",
      "weighted avg       0.95      0.95      0.95      9211\n",
      "\n"
     ]
    }
   ],
   "source": [
    "# Predict on the test set\n",
    "y_pred = xgb_clf.predict(X_test)\n",
    "y_pred_prob = xgb_clf.predict_proba(X_test)\n",
    "\n",
    "# Print classification report\n",
    "print(\"Classification Report:\")\n",
    "print(classification_report(y_test, y_pred))"
   ]
  },
  {
   "cell_type": "code",
   "execution_count": 613,
   "metadata": {},
   "outputs": [],
   "source": [
    "# Compute ROC curve and ROC area for each class\n",
    "fpr = dict()\n",
    "tpr = dict()\n",
    "roc_auc = dict()\n",
    "\n",
    "for i in range(4):\n",
    "    fpr[i], tpr[i], _ = roc_curve(y_bin[:, i], y_pred_prob[:, i])\n",
    "    roc_auc[i] = auc(fpr[i], tpr[i])"
   ]
  },
  {
   "cell_type": "code",
   "execution_count": 614,
   "metadata": {},
   "outputs": [
    {
     "data": {
      "image/png": "[encoded data removed]",
      "text/plain": [
       "<Figure size 432x288 with 1 Axes>"
      ]
     },
     "metadata": {
      "needs_background": "light"
     },
     "output_type": "display_data"
    }
   ],
   "source": [
    "colors = cycle(['blue', 'red', 'green', 'orange'])\n",
    "for i, color in zip(range(4), colors):\n",
    "    plt.plot(fpr[i], tpr[i], color=color, lw=2,\n",
    "             label='ROC curve of class {0} (area = {1:0.2f})'\n",
    "             ''.format(i, roc_auc[i]))\n",
    "\n",
    "plt.plot([0, 1], [0, 1], 'k--', lw=2)\n",
    "plt.xlim([0.0, 1.0])\n",
    "plt.ylim([0.0, 1.05])\n",
    "plt.xlabel('False Positive Rate')\n",
    "plt.ylabel('True Positive Rate')\n",
    "plt.title('Receiver Operating Characteristic (ROC) Curve')\n",
    "plt.legend(loc=\"lower right\")\n",
    "plt.show()"
   ]
  },
  {
   "cell_type": "code",
   "execution_count": 615,
   "metadata": {},
   "outputs": [
    {
     "data": {
      "image/png": "[encoded data removed]",
      "text/plain": [
       "<Figure size 432x288 with 1 Axes>"
      ]
     },
     "metadata": {
      "needs_background": "light"
     },
     "output_type": "display_data"
    }
   ],
   "source": [
    "# Plot feature importance\n",
    "xgb.plot_importance(xgb_clf)\n",
    "plt.show()"
   ]
  },
  {
   "cell_type": "code",
   "execution_count": 536,
   "metadata": {},
   "outputs": [
    {
     "name": "stdout",
     "output_type": "stream",
     "text": [
      "1.00 accuracy with a standard deviation of 0.00\n"
     ]
    }
   ],
   "source": [
    "scores = cross_val_score(xgb_clf, X_test, y_test, cv=5)\n",
    "print(\"%0.2f accuracy with a standard deviation of %0.2f\" % (scores.mean(), scores.std()))"
   ]
  },
  {
   "cell_type": "code",
   "execution_count": 537,
   "metadata": {},
   "outputs": [
    {
     "name": "stdout",
     "output_type": "stream",
     "text": [
      "Element Counts:\n",
      "0: 1445\n",
      "1: 360\n",
      "2: 2572\n",
      "3: 4834\n"
     ]
    }
   ],
   "source": [
    "# Get unique elements and their counts\n",
    "unique_elements, counts = np.unique(y_test, return_counts=True)\n",
    "\n",
    "# Zip them together for readability\n",
    "element_counts = dict(zip(unique_elements, counts))\n",
    "\n",
    "# Print the counts\n",
    "print(\"Element Counts:\")\n",
    "for element, count in element_counts.items():\n",
    "    print(f\"{element}: {count}\")"
   ]
  },
  {
   "cell_type": "code",
   "execution_count": 538,
   "metadata": {},
   "outputs": [
    {
     "name": "stdout",
     "output_type": "stream",
     "text": [
      "Element Counts:\n",
      "0: 1442\n",
      "1: 366\n",
      "2: 2575\n",
      "3: 4828\n"
     ]
    }
   ],
   "source": [
    "# Get unique elements and their counts\n",
    "unique_elements, counts = np.unique(y_pred, return_counts=True)\n",
    "\n",
    "# Zip them together for readability\n",
    "element_counts = dict(zip(unique_elements, counts))\n",
    "\n",
    "# Print the counts\n",
    "print(\"Element Counts:\")\n",
    "for element, count in element_counts.items():\n",
    "    print(f\"{element}: {count}\")"
   ]
  },
  {
   "cell_type": "code",
   "execution_count": 539,
   "metadata": {},
   "outputs": [
    {
     "name": "stdout",
     "output_type": "stream",
     "text": [
      "Accuracy: 0.9980458147866681\n"
     ]
    }
   ],
   "source": [
    "# Calculate and print accuracy\n",
    "accuracy = accuracy_score(y_test, y_pred)\n",
    "print(\"Accuracy:\", accuracy)"
   ]
  },
  {
   "cell_type": "markdown",
   "metadata": {},
   "source": [
    "- RF"
   ]
  },
  {
   "cell_type": "code",
   "execution_count": 540,
   "metadata": {},
   "outputs": [],
   "source": [
    "X_train, X_test, y_train, y_test = train_test_split(X, y_encoded, test_size=0.3, random_state=42)"
   ]
  },
  {
   "cell_type": "code",
   "execution_count": 541,
   "metadata": {},
   "outputs": [],
   "source": [
    "feature_names = list(X_train.columns)"
   ]
  },
  {
   "cell_type": "code",
   "execution_count": 542,
   "metadata": {},
   "outputs": [],
   "source": [
    "y_bin = label_binarize(y_test, classes=[0, 1, 2, 3])"
   ]
  },
  {
   "cell_type": "code",
   "execution_count": 543,
   "metadata": {},
   "outputs": [],
   "source": [
    "# Initialize Random Forest classifier for multiclass classification\n",
    "rf_clf = RandomForestClassifier(n_estimators=100, random_state=42)"
   ]
  },
  {
   "cell_type": "code",
   "execution_count": 544,
   "metadata": {},
   "outputs": [],
   "source": [
    "# Train the classifier\n",
    "rf_clf.fit(X_train, y_train)\n",
    "\n",
    "# Predict on the test set\n",
    "y_pred = rf_clf.predict(X_test)\n",
    "\n",
    "y_pred_prob = rf_clf.predict_proba(X_test)"
   ]
  },
  {
   "cell_type": "code",
   "execution_count": 545,
   "metadata": {},
   "outputs": [
    {
     "name": "stdout",
     "output_type": "stream",
     "text": [
      "Classification Report:\n",
      "              precision    recall  f1-score   support\n",
      "\n",
      "           0       1.00      1.00      1.00      1445\n",
      "           1       1.00      1.00      1.00       360\n",
      "           2       1.00      1.00      1.00      2572\n",
      "           3       1.00      1.00      1.00      4834\n",
      "\n",
      "    accuracy                           1.00      9211\n",
      "   macro avg       1.00      1.00      1.00      9211\n",
      "weighted avg       1.00      1.00      1.00      9211\n",
      "\n",
      "Accuracy: 1.0\n"
     ]
    }
   ],
   "source": [
    "# Print classification report\n",
    "print(\"Classification Report:\")\n",
    "print(classification_report(y_test, y_pred))\n",
    "\n",
    "# Calculate and print accuracy\n",
    "accuracy = accuracy_score(y_test, y_pred)\n",
    "print(\"Accuracy:\", accuracy)"
   ]
  },
  {
   "cell_type": "code",
   "execution_count": 546,
   "metadata": {},
   "outputs": [],
   "source": [
    "# Compute ROC curve and ROC area for each class\n",
    "fpr = dict()\n",
    "tpr = dict()\n",
    "roc_auc = dict()\n",
    "\n",
    "for i in range(4):\n",
    "    fpr[i], tpr[i], _ = roc_curve(y_bin[:, i], y_pred_prob[:, i])\n",
    "    roc_auc[i] = auc(fpr[i], tpr[i])"
   ]
  },
  {
   "cell_type": "code",
   "execution_count": 547,
   "metadata": {},
   "outputs": [
    {
     "data": {
      "image/png": "[encoded data removed]",
      "text/plain": [
       "<Figure size 432x288 with 1 Axes>"
      ]
     },
     "metadata": {
      "needs_background": "light"
     },
     "output_type": "display_data"
    }
   ],
   "source": [
    "colors = cycle(['blue', 'red', 'green', 'orange'])\n",
    "for i, color in zip(range(4), colors):\n",
    "    plt.plot(fpr[i], tpr[i], color=color, lw=2,\n",
    "             label='ROC curve of class {0} (area = {1:0.2f})'\n",
    "             ''.format(i, roc_auc[i]))\n",
    "\n",
    "plt.plot([0, 1], [0, 1], 'k--', lw=2)\n",
    "plt.xlim([0.0, 1.0])\n",
    "plt.ylim([0.0, 1.05])\n",
    "plt.xlabel('False Positive Rate')\n",
    "plt.ylabel('True Positive Rate')\n",
    "plt.title('Receiver Operating Characteristic (ROC) Curve')\n",
    "plt.legend(loc=\"lower right\")\n",
    "plt.show()"
   ]
  },
  {
   "cell_type": "code",
   "execution_count": 548,
   "metadata": {},
   "outputs": [
    {
     "data": {
      "image/png": "[encoded data removed]",
      "text/plain": [
       "<Figure size 720x432 with 1 Axes>"
      ]
     },
     "metadata": {
      "needs_background": "light"
     },
     "output_type": "display_data"
    }
   ],
   "source": [
    "importances = rf_clf.feature_importances_\n",
    "std = np.std([tree.feature_importances_ for tree in rf_clf.estimators_], axis=0)\n",
    "indices = np.argsort(importances)[::-1]\n",
    "\n",
    "# Plot feature importances\n",
    "plt.figure(figsize=(10, 6))\n",
    "plt.title(\"Feature importances\")\n",
    "plt.bar(range(X.shape[1]), importances[indices], color=\"r\", yerr=std[indices], align=\"center\")\n",
    "plt.xticks(range(X.shape[1]), [feature_names[i] for i in indices], rotation=90)  # Replace with original feature names and rotate x-axis labels by 45 degrees\n",
    "plt.xlim([-1, X.shape[1]])\n",
    "plt.xlabel(\"Features\")\n",
    "plt.ylabel(\"Importance\")\n",
    "plt.tight_layout(pad=0.5)\n",
    "plt.show()"
   ]
  },
  {
   "cell_type": "code",
   "execution_count": 549,
   "metadata": {},
   "outputs": [
    {
     "name": "stdout",
     "output_type": "stream",
     "text": [
      "1.00 accuracy with a standard deviation of 0.00\n"
     ]
    }
   ],
   "source": [
    "scores = cross_val_score(rf_clf, X_test, y_test, cv=5)\n",
    "print(\"%0.2f accuracy with a standard deviation of %0.2f\" % (scores.mean(), scores.std()))"
   ]
  },
  {
   "cell_type": "code",
   "execution_count": null,
   "metadata": {},
   "outputs": [],
   "source": []
  }
 ],
 "metadata": {
  "kernelspec": {
   "display_name": "base",
   "language": "python",
   "name": "python3"
  },
  "language_info": {
   "codemirror_mode": {
    "name": "ipython",
    "version": 3
   },
   "file_extension": ".py",
   "mimetype": "text/x-python",
   "name": "python",
   "nbconvert_exporter": "python",
   "pygments_lexer": "ipython3",
   "version": "3.10.11"
  }
 },
 "nbformat": 4,
 "nbformat_minor": 2
}
